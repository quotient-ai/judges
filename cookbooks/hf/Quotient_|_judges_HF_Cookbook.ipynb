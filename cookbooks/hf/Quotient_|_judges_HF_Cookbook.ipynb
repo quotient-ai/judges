{
 "cells": [
  {
   "cell_type": "markdown",
   "metadata": {
    "id": "XJCjHC1Cig3c"
   },
   "source": [
    "# Evaluating AI Search Engines with `judges` - the open-source library for LLM-as-a-judge evaluators ⚖️\n",
    "\n",
    "\n",
    "**`judges`** is an open-sources library to use and create LLM-as-a-Judge evaluators; it provides a set of curated, researched-backed evaluator prompts for common use-cases like hallucination, harmfulness, and empathy.\n",
    "\n",
    "The `judges` library is available on [GitHub](https://github.com/quotient-ai/judges) or via `pip install judges`.\n",
    "\n",
    "In this notebook, we show how `judges` can be used to evaluate and compare outputs from top AI search engines like Perplexity, EXA, and Gemini.\n",
    "\n",
    "---\n",
    "\n",
    "## Setup\n",
    "\n",
    "We use the [Natural Questions dataset](https://paperswithcode.com/dataset/natural-questions) -- a collection of real-world google.com queries and corresponding Wikipedia articles -- as our benchmark to comparing the quality of different AI search engines, as follows:\n",
    "\n",
    "1. Start with a [**100-datapoint subset of Natural Questions**](https://huggingface.co/datasets/quotientai/natural-qa-random-100-with-AI-search-answers), which includes only answers that were deemed as high-quality upon manual evaluation for being correct, clear, and sufficient, as well as the corresponding queries. We'll use these as the ground truth answers to the queries.\n",
    "2. Use different **AI search engines** (Perplexity, Exa, and Gemini) to generate responses to the queries in the dataset.\n",
    "3. Use `judges` to evaluate the responses for **correctness** and **quality**.\n",
    "\n",
    "Let's dive in!"
   ]
  },
  {
   "cell_type": "code",
   "execution_count": null,
   "metadata": {
    "id": "Rh3u8b6Hj_WV"
   },
   "outputs": [],
   "source": [
    "!pip install judges datasets google-generativeai exa_py seaborn matplotlib --quiet"
   ]
  },
  {
   "cell_type": "code",
   "execution_count": 11,
   "metadata": {
    "id": "pFMcWL7xj_WW",
    "outputId": "e2db549c-a4f7-445c-80f1-667da469a90d"
   },
   "outputs": [
    {
     "data": {
      "text/plain": [
       "True"
      ]
     },
     "execution_count": 11,
     "metadata": {},
     "output_type": "execute_result"
    }
   ],
   "source": [
    "import pandas as pd\n",
    "from dotenv import load_dotenv\n",
    "import os\n",
    "from IPython.display import Markdown, HTML\n",
    "from tqdm import tqdm\n",
    "\n",
    "load_dotenv()"
   ]
  },
  {
   "cell_type": "code",
   "execution_count": null,
   "metadata": {
    "colab": {
     "base_uri": "https://localhost:8080/"
    },
    "id": "F-IXo8OXeS53",
    "outputId": "68fc4755-340a-4343-cd6b-9cc2997e12ee"
   },
   "outputs": [
    {
     "name": "stdout",
     "output_type": "stream",
     "text": [
      "The token has not been saved to the git credentials helper. Pass `add_to_git_credential=True` in this function directly or `--add-to-git-credential` if using via `huggingface-cli` if you want to set the git credential as well.\n",
      "Token is valid (permission: read).\n",
      "Your token has been saved to /Users/jamesliounis/.cache/huggingface/token\n",
      "Login successful\n"
     ]
    }
   ],
   "source": [
    "HF_API_KEY = os.getenv('HF_API_KEY')\n",
    "\n",
    "if HF_API_KEY:\n",
    "    !huggingface-cli login --token $HF_API_KEY\n",
    "else:\n",
    "    print(\"Hugging Face API key not found.\")"
   ]
  },
  {
   "cell_type": "code",
   "execution_count": null,
   "metadata": {
    "colab": {
     "base_uri": "https://localhost:8080/",
     "height": 204
    },
    "id": "hWW6wdPTdEW9",
    "outputId": "4f003a88-5248-450c-f42a-5a4527cec8d1"
   },
   "outputs": [
    {
     "data": {
      "text/html": [
       "<div>\n",
       "<style scoped>\n",
       "    .dataframe tbody tr th:only-of-type {\n",
       "        vertical-align: middle;\n",
       "    }\n",
       "\n",
       "    .dataframe tbody tr th {\n",
       "        vertical-align: top;\n",
       "    }\n",
       "\n",
       "    .dataframe thead th {\n",
       "        text-align: right;\n",
       "    }\n",
       "</style>\n",
       "<table border=\"1\" class=\"dataframe\">\n",
       "  <thead>\n",
       "    <tr style=\"text-align: right;\">\n",
       "      <th></th>\n",
       "      <th>url</th>\n",
       "      <th>input_text</th>\n",
       "      <th>completion</th>\n",
       "      <th>label</th>\n",
       "      <th>feedback</th>\n",
       "    </tr>\n",
       "  </thead>\n",
       "  <tbody>\n",
       "    <tr>\n",
       "      <th>1</th>\n",
       "      <td>https://en.wikipedia.org//w/index.php?title=Un...</td>\n",
       "      <td>what is the title of the person who runs the h...</td>\n",
       "      <td>['Speaker of the House']</td>\n",
       "      <td>good</td>\n",
       "      <td>None</td>\n",
       "    </tr>\n",
       "    <tr>\n",
       "      <th>2</th>\n",
       "      <td>https://en.wikipedia.org//w/index.php?title=Th...</td>\n",
       "      <td>yo la tengo theres a riot going on release date</td>\n",
       "      <td>['March 16, 2018']</td>\n",
       "      <td>good</td>\n",
       "      <td>None</td>\n",
       "    </tr>\n",
       "    <tr>\n",
       "      <th>3</th>\n",
       "      <td>https://en.wikipedia.org//w/index.php?title=Th...</td>\n",
       "      <td>who played the hobbits in the lord of the rings</td>\n",
       "      <td>['Elijah Wood as Frodo Baggins', 'Sean Astin a...</td>\n",
       "      <td>good</td>\n",
       "      <td>None</td>\n",
       "    </tr>\n",
       "    <tr>\n",
       "      <th>4</th>\n",
       "      <td>https://en.wikipedia.org//w/index.php?title=Th...</td>\n",
       "      <td>where does the show the path take place</td>\n",
       "      <td>['Upstate New York']</td>\n",
       "      <td>good</td>\n",
       "      <td>None</td>\n",
       "    </tr>\n",
       "    <tr>\n",
       "      <th>5</th>\n",
       "      <td>https://en.wikipedia.org//w/index.php?title=Mi...</td>\n",
       "      <td>when did michigan last win a national champion...</td>\n",
       "      <td>['1989']</td>\n",
       "      <td>good</td>\n",
       "      <td>None</td>\n",
       "    </tr>\n",
       "  </tbody>\n",
       "</table>\n",
       "</div>"
      ],
      "text/plain": [
       "                                                 url  \\\n",
       "1  https://en.wikipedia.org//w/index.php?title=Un...   \n",
       "2  https://en.wikipedia.org//w/index.php?title=Th...   \n",
       "3  https://en.wikipedia.org//w/index.php?title=Th...   \n",
       "4  https://en.wikipedia.org//w/index.php?title=Th...   \n",
       "5  https://en.wikipedia.org//w/index.php?title=Mi...   \n",
       "\n",
       "                                          input_text  \\\n",
       "1  what is the title of the person who runs the h...   \n",
       "2    yo la tengo theres a riot going on release date   \n",
       "3    who played the hobbits in the lord of the rings   \n",
       "4            where does the show the path take place   \n",
       "5  when did michigan last win a national champion...   \n",
       "\n",
       "                                          completion label feedback  \n",
       "1                           ['Speaker of the House']  good     None  \n",
       "2                                 ['March 16, 2018']  good     None  \n",
       "3  ['Elijah Wood as Frodo Baggins', 'Sean Astin a...  good     None  \n",
       "4                               ['Upstate New York']  good     None  \n",
       "5                                           ['1989']  good     None  "
      ]
     },
     "execution_count": 6,
     "metadata": {},
     "output_type": "execute_result"
    }
   ],
   "source": [
    "from datasets import load_dataset\n",
    "\n",
    "dataset = load_dataset(\"quotientai/labeled-natural-qa-random-100\")\n",
    "\n",
    "data = dataset['train'].to_pandas()\n",
    "data = data[data['label'] == 'good']\n",
    "\n",
    "data.head()\n"
   ]
  },
  {
   "cell_type": "markdown",
   "metadata": {
    "id": "6NBl2u1Uxtv7"
   },
   "source": [
    "## 🔍🤖 Generating Answers with AI Search Engines  \n",
    "\n",
    "Let's start by querying three AI search engines - Perplexity, EXA, and Gemini - with the queries from our 100-datapoint dataset."
   ]
  },
  {
   "cell_type": "markdown",
   "metadata": {
    "id": "SWYaCZEPj_WX"
   },
   "source": [
    "You can either set the API keys from a `.env` file, such as what we are doing below, or from Google Colab secrets for which you may use the commented-out commands"
   ]
  },
  {
   "cell_type": "code",
   "execution_count": null,
   "metadata": {
    "id": "TKR7s1V5j_WX"
   },
   "outputs": [],
   "source": [
    "PERPLEXITY_API_KEY = os.getenv('PERPLEXITY_API_KEY')"
   ]
  },
  {
   "cell_type": "markdown",
   "metadata": {
    "id": "jLDRrvUUx8K5"
   },
   "source": [
    "### 🌟 Gemini  \n",
    "\n",
    "To generate answers with **Gemini**, we tap into the Gemini API with the **grounding option**—in order to retrieve a well-grounded response based on a Google search. We followed the steps outlined in [Google's official documentation](https://ai.google.dev/gemini-api/docs/grounding?lang=python) to get started."
   ]
  },
  {
   "cell_type": "code",
   "execution_count": null,
   "metadata": {
    "id": "_zh9xtlEj_WY"
   },
   "outputs": [],
   "source": [
    "GOOGLE_API_KEY = os.getenv('GOOGLE_API_KEY')\n",
    "\n",
    "## Use this if using Colab\n",
    "#GOOGLE_API_KEY=userdata.get('GOOGLE_API_KEY')"
   ]
  },
  {
   "cell_type": "code",
   "execution_count": null,
   "metadata": {
    "id": "Vp_rUQ7vmjvt"
   },
   "outputs": [],
   "source": [
    "# from google.colab import userdata    # Use this to load credentials if running in Colab\n",
    "import google.generativeai as genai\n",
    "from IPython.display import Markdown, HTML\n",
    "\n",
    "# GOOGLE_API_KEY=userdata.get('GOOGLE_API_KEY')\n",
    "genai.configure(api_key=GOOGLE_API_KEY)"
   ]
  },
  {
   "cell_type": "markdown",
   "metadata": {
    "id": "Mci8jjd0mbMB"
   },
   "source": [
    "**🔌✨ Testing the Gemini Client**  \n",
    "\n",
    "Before diving in, we test the Gemini client to make sure everything's running smoothly."
   ]
  },
  {
   "cell_type": "code",
   "execution_count": null,
   "metadata": {
    "id": "1Q2vwaG9I0KB"
   },
   "outputs": [],
   "source": [
    "model = genai.GenerativeModel('models/gemini-1.5-pro-002')\n",
    "response = model.generate_content(contents=\"What is the land area of Spain?\",\n",
    "                                  tools='google_search_retrieval')"
   ]
  },
  {
   "cell_type": "code",
   "execution_count": null,
   "metadata": {
    "colab": {
     "base_uri": "https://localhost:8080/",
     "height": 137
    },
    "id": "nBGRGjW6lbgy",
    "outputId": "9865857c-dc81-4817-ee94-678fdc199f71"
   },
   "outputs": [
    {
     "data": {
      "text/markdown": [
       "Spain's land area covers approximately 500,000 square kilometers.  More precisely, the figure commonly cited is 504,782 square kilometers (194,897 square miles), which makes it the largest country in Southern Europe, the second largest in Western Europe (after France), and the fourth largest on the European continent (after Russia, Ukraine, and France).\n",
       "\n",
       "Including its island territories—the Balearic Islands in the Mediterranean and the Canary Islands in the Atlantic—the total area increases slightly to around 505,370 square kilometers.  It's worth noting that these figures can vary slightly depending on the source and measurement methods.  For example, data from the World Bank indicates a land area of 499,733 sq km for 2021.  These differences likely arise from what is included (or excluded) in the calculations, such as small Spanish possessions off the coast of Morocco or the autonomous cities of Ceuta and Melilla.\n"
      ],
      "text/plain": [
       "<IPython.core.display.Markdown object>"
      ]
     },
     "execution_count": 25,
     "metadata": {},
     "output_type": "execute_result"
    }
   ],
   "source": [
    "Markdown(response.candidates[0].content.parts[0].text)"
   ]
  },
  {
   "cell_type": "code",
   "execution_count": null,
   "metadata": {
    "id": "OHdh50cfyBRS"
   },
   "outputs": [],
   "source": [
    "model = genai.GenerativeModel('models/gemini-1.5-pro-002')\n",
    "\n",
    "\n",
    "def search_with_gemini(input_text):\n",
    "    \"\"\"\n",
    "    Uses the Gemini generative model to perform a Google search retrieval\n",
    "    based on the input text and return the generated response.\n",
    "\n",
    "    Args:\n",
    "        input_text (str): The input text or query for which the search is performed.\n",
    "\n",
    "    Returns:\n",
    "        response: The response object generated by the Gemini model, containing\n",
    "                  search results and associated information.\n",
    "    \"\"\"\n",
    "    response = model.generate_content(contents=input_text,\n",
    "                                      tools='google_search_retrieval')\n",
    "    return response\n",
    "\n",
    "\n",
    "\n",
    "# Function to parse the output from the response object\n",
    "parse_gemini_output = lambda x: x.candidates[0].content.parts[0].text\n"
   ]
  },
  {
   "cell_type": "markdown",
   "metadata": {
    "id": "RB8Q0MQzj_WZ"
   },
   "source": [
    "We can run inference on our dataset to generate new answers for the queries in our dataset."
   ]
  },
  {
   "cell_type": "code",
   "execution_count": null,
   "metadata": {
    "id": "ujEJs_qhj_WZ",
    "outputId": "be68dfdf-0349-4478-bfb7-6a5e21734b95"
   },
   "outputs": [
    {
     "name": "stderr",
     "output_type": "stream",
     "text": [
      "100%|██████████| 67/67 [05:04<00:00,  4.54s/it]\n"
     ]
    }
   ],
   "source": [
    "tqdm.pandas()\n",
    "\n",
    "data['gemini_response'] = data['input_text'].progress_apply(search_with_gemini)"
   ]
  },
  {
   "cell_type": "code",
   "execution_count": null,
   "metadata": {
    "id": "jbP_Efs8j_Wa"
   },
   "outputs": [],
   "source": [
    "# Parse the text output from the response object\n",
    "data['gemini_response_parsed'] = data['gemini_response'].apply(parse_gemini_output)"
   ]
  },
  {
   "cell_type": "markdown",
   "metadata": {
    "id": "V1cGc8Y5x19F"
   },
   "source": [
    "We repeat a similar process for the other two search engines."
   ]
  },
  {
   "cell_type": "markdown",
   "metadata": {
    "id": "8uu2Icu1GBZ3"
   },
   "source": [
    "### 🧠✨ Perplexity  \n",
    "\n",
    "To get started with **Perplexity**, we use their [quickstart guide](https://www.perplexity.ai/hub/blog/introducing-pplx-api). We follow the steps and plug into the API."
   ]
  },
  {
   "cell_type": "code",
   "execution_count": null,
   "metadata": {
    "id": "XbPVbWDem99D"
   },
   "outputs": [],
   "source": [
    "## On Google Colab\n",
    "# PERPLEXITY_API_KEY=userdata.get('PERPLEXITY_API_KEY')"
   ]
  },
  {
   "cell_type": "code",
   "execution_count": null,
   "metadata": {
    "id": "-GMBv3X_GCcJ"
   },
   "outputs": [],
   "source": [
    "import requests\n",
    "\n",
    "\n",
    "def get_perplexity_response(input_text, api_key=PERPLEXITY_API_KEY, max_tokens=1024, temperature=0.2, top_p=0.9):\n",
    "    \"\"\"\n",
    "    Sends an input text to the Perplexity API and retrieves a response.\n",
    "\n",
    "    Args:\n",
    "        input_text (str): The user query to send to the API.\n",
    "        api_key (str): The Perplexity API key for authorization.\n",
    "        max_tokens (int): Maximum number of tokens for the response.\n",
    "        temperature (float): Sampling temperature for randomness in responses.\n",
    "        top_p (float): Nucleus sampling parameter.\n",
    "\n",
    "    Returns:\n",
    "        dict: The JSON response from the API if successful.\n",
    "        str: Error message if the request fails.\n",
    "    \"\"\"\n",
    "    url = \"https://api.perplexity.ai/chat/completions\"\n",
    "\n",
    "    # Define the payload\n",
    "    payload = {\n",
    "        \"model\": \"llama-3.1-sonar-small-128k-online\",\n",
    "        \"messages\": [\n",
    "            {\n",
    "                \"role\": \"system\",\n",
    "                \"content\": \"You are a helpful assistant. Be precise and concise.\"\n",
    "            },\n",
    "            {\n",
    "                \"role\": \"user\",\n",
    "                \"content\": input_text\n",
    "            }\n",
    "        ],\n",
    "        \"max_tokens\": max_tokens,\n",
    "        \"temperature\": temperature,\n",
    "        \"top_p\": top_p,\n",
    "        \"search_domain_filter\": [\"perplexity.ai\"],\n",
    "        \"return_images\": False,\n",
    "        \"return_related_questions\": False,\n",
    "        \"search_recency_filter\": \"month\",\n",
    "        \"top_k\": 0,\n",
    "        \"stream\": False,\n",
    "        \"presence_penalty\": 0,\n",
    "        \"frequency_penalty\": 1\n",
    "    }\n",
    "\n",
    "    # Define the headers\n",
    "    headers = {\n",
    "        \"Authorization\": f\"Bearer {api_key}\",\n",
    "        \"Content-Type\": \"application/json\"\n",
    "    }\n",
    "\n",
    "    # Make the API request\n",
    "    response = requests.post(url, json=payload, headers=headers)\n",
    "\n",
    "    # Check and return the response\n",
    "    if response.status_code == 200:\n",
    "        return response.json()  # Return the JSON response\n",
    "    else:\n",
    "        return f\"Error: {response.status_code}, {response.text}\"\n"
   ]
  },
  {
   "cell_type": "code",
   "execution_count": null,
   "metadata": {
    "id": "fjfivDbLndBW"
   },
   "outputs": [],
   "source": [
    "# Function to parse the text output from the response object\n",
    "parse_perplexity_output = lambda response: response['choices'][0]['message']['content']"
   ]
  },
  {
   "cell_type": "code",
   "execution_count": null,
   "metadata": {
    "id": "CLP9k8Nhj_Wa",
    "outputId": "9cdcc3ad-c640-495d-e544-151473cd13f8"
   },
   "outputs": [
    {
     "name": "stderr",
     "output_type": "stream",
     "text": [
      "100%|██████████| 67/67 [02:12<00:00,  1.98s/it]\n"
     ]
    }
   ],
   "source": [
    "tqdm.pandas()\n",
    "\n",
    "data['perplexity_response'] = data['input_text'].progress_apply(get_perplexity_response)\n",
    "data['perplexity_response_parsed'] = data['perplexity_response'].apply(parse_perplexity_output)"
   ]
  },
  {
   "cell_type": "markdown",
   "metadata": {
    "id": "OiF_lU9asvqi"
   },
   "source": [
    "###🤖📜 Exa AI  \n",
    "\n",
    "Unlike Perplexity and Gemini, **Exa AI** doesn’t have a built-in RAG API for search results. Instead, it offers a wrapper around OpenAI’s API. Head over to [their documentation](https://docs.exa.ai/reference/openai) for all the details."
   ]
  },
  {
   "cell_type": "code",
   "execution_count": null,
   "metadata": {
    "id": "JVV4yKA_pyDe"
   },
   "outputs": [],
   "source": [
    "from openai import OpenAI\n",
    "from exa_py import Exa\n"
   ]
  },
  {
   "cell_type": "code",
   "execution_count": null,
   "metadata": {
    "id": "JtYhAwAJj_Wb"
   },
   "outputs": [],
   "source": [
    "# # Use this if using Colab\n",
    "# EXA_API_KEY=userdata.get('EXA_API_KEY')\n",
    "# OPENAI_API_KEY=userdata.get('OPENAI_API_KEY')\n",
    "\n",
    "EXA_API_KEY = os.getenv('EXA_API_KEY')\n",
    "OPENAI_API_KEY = os.getenv('OPENAI_API_KEY')"
   ]
  },
  {
   "cell_type": "code",
   "execution_count": null,
   "metadata": {
    "id": "bNU9kUs9zBhT",
    "outputId": "0e2527ae-1981-4994-df8d-cf3472d2857f"
   },
   "outputs": [
    {
     "name": "stdout",
     "output_type": "stream",
     "text": [
      "Wrapping OpenAI client with Exa functionality. <class 'function'>\n",
      "The total land area of Spain is approximately 505,370 square kilometers (195,124 square miles).\n"
     ]
    }
   ],
   "source": [
    "import numpy as np\n",
    "\n",
    "from openai import OpenAI\n",
    "from exa_py import Exa\n",
    "\n",
    "openai = OpenAI(api_key=OPENAI_API_KEY)\n",
    "exa = Exa(EXA_API_KEY)\n",
    "\n",
    "# Wrap OpenAI with Exa\n",
    "exa_openai = exa.wrap(openai)\n",
    "\n",
    "def get_exa_openai_response(model=\"gpt-4o-mini\", input_text=None):\n",
    "    \"\"\"\n",
    "    Generate a response using OpenAI GPT-4 via the Exa wrapper. Returns NaN if an error occurs.\n",
    "\n",
    "    Args:\n",
    "        openai_api_key (str): The API key for OpenAI.\n",
    "        exa_key (str): The API key for Exa.\n",
    "        model (str): The OpenAI model to use (e.g., \"gpt-4o-mini\").\n",
    "        input_text (str): The input text to send to the model.\n",
    "\n",
    "    Returns:\n",
    "        str or NaN: The content of the response message from the OpenAI model, or NaN if an error occurs.\n",
    "    \"\"\"\n",
    "    try:\n",
    "        # Initialize OpenAI and Exa clients\n",
    "\n",
    "        # Generate a completion (disable tools)\n",
    "        completion = exa_openai.chat.completions.create(\n",
    "            model=model,\n",
    "            messages=[{\"role\": \"user\", \"content\": input_text}],\n",
    "            tools=None  # Ensure tools are not used\n",
    "        )\n",
    "\n",
    "        # Return the content of the first message in the completion\n",
    "        return completion.choices[0].message.content\n",
    "\n",
    "    except Exception as e:\n",
    "        # Log the error if needed (optional)\n",
    "        print(f\"Error occurred: {e}\")\n",
    "        # Return NaN to indicate failure\n",
    "        return np.nan\n",
    "\n",
    "\n",
    "# Testing the function\n",
    "response = get_exa_openai_response(\n",
    "    input_text=\"What is the land area of Spain?\"\n",
    ")\n",
    "\n",
    "print(response)\n"
   ]
  },
  {
   "cell_type": "code",
   "execution_count": null,
   "metadata": {
    "id": "VGkMSuhsj_Wb",
    "outputId": "10a5252f-b4bb-4e99-8bde-014400543b0f"
   },
   "outputs": [
    {
     "name": "stderr",
     "output_type": "stream",
     "text": [
      " 33%|███▎      | 22/67 [01:15<02:50,  3.78s/it]"
     ]
    },
    {
     "name": "stdout",
     "output_type": "stream",
     "text": [
      "Error occurred: Error code: 400 - {'error': {'message': \"An assistant message with 'tool_calls' must be followed by tool messages responding to each 'tool_call_id'. The following tool_call_ids did not have response messages: call_5YAezpf1OoeEZ23TYnDOv2s2\", 'type': 'invalid_request_error', 'param': 'messages', 'code': None}}\n"
     ]
    },
    {
     "name": "stderr",
     "output_type": "stream",
     "text": [
      "100%|██████████| 67/67 [04:05<00:00,  3.66s/it]\n"
     ]
    }
   ],
   "source": [
    "tqdm.pandas()\n",
    "\n",
    "data['exa_openai_response_parsed'] = data['input_text'].progress_apply(lambda x: get_exa_openai_response(input_text=x))"
   ]
  },
  {
   "cell_type": "code",
   "execution_count": null,
   "metadata": {
    "id": "LGzzQl8hj_Wb"
   },
   "outputs": [],
   "source": [
    "#data.drop(columns=['feedback', 'label'], inplace=True)"
   ]
  },
  {
   "cell_type": "code",
   "execution_count": null,
   "metadata": {
    "id": "lYmvCEFKj_Wb"
   },
   "outputs": [],
   "source": [
    "## Saving the data to a CSV file\n",
    "#data.to_csv('../data/quotient_natural_qa_with_AI_search_completions.csv', index=False)"
   ]
  },
  {
   "cell_type": "markdown",
   "metadata": {
    "id": "SNKchEHZj_Wb"
   },
   "source": [
    "# ⚖️🔍 Using `judges` to Evaluate Search Results  \n",
    "\n",
    "Using **`judges`**, we’ll evaluate the responses generated by Gemini, Perplexity, and Exa AI for **correctness** and **quality** relative to the ground truth high-quality answers from our dataset."
   ]
  },
  {
   "cell_type": "markdown",
   "metadata": {
    "id": "JmSg33v1j_Wc"
   },
   "source": [
    "We start by reading in our data that now contains the search results."
   ]
  },
  {
   "cell_type": "code",
   "execution_count": 9,
   "metadata": {
    "id": "KjKuLngmj_Wc"
   },
   "outputs": [],
   "source": [
    "from datasets import load_dataset\n",
    "\n",
    "# Load Parquet file from Hugging Face\n",
    "dataset = load_dataset(\n",
    "    \"quotientai/natural-qa-random-67-with-AI-search-answers\", \n",
    "    data_files=\"data/natural-qa-random-67-with-AI-search-answers.parquet\", \n",
    "    split=\"train\"\n",
    ")\n",
    "\n",
    "# Convert to Pandas DataFrame\n",
    "df = dataset.to_pandas()"
   ]
  },
  {
   "cell_type": "markdown",
   "metadata": {
    "id": "5LhKzNvsj_Wd"
   },
   "source": [
    "## Getting Started with `judges` ⚖️🚀  \n",
    "\n"
   ]
  },
  {
   "cell_type": "markdown",
   "metadata": {
    "id": "nhdxIn5Kj_Wd"
   },
   "source": [
    "Let’s first demo `judges` by running a quick evaluation on a single datapoint 🛠️ We’ll use the starter code from the README’s [documentation](https://github.com/quotient-ai/judges/blob/main/judges/classifiers/correctness.py) to set things up.  \n",
    "\n",
    "The library provides two types of judges:\n",
    "- **[`Classifiers`](https://github.com/quotient-ai/judges/tree/main/judges/classifiers)**: Return boolean values.\n",
    "- **[`Graders`](https://github.com/quotient-ai/judges/tree/main/judges/graders)**: Return scores on a numerical or Likert scale.\n",
    "\n",
    "**Example**: **🛡️`TrustworthyLLMHarmfulness`**  \n",
    "\n",
    "For our first test, we’ll use a **classifier** judge, [`TrustworthyLLMHarmfulness`](https://github.com/quotient-ai/judges/blob/main/judges/classifiers/harmfulness.py). Inspired by [*Trustworthy LLMs: A Survey and Guideline for Evaluating Large Language Models' Alignment*](https://arxiv.org/abs/2308.05374), this judge checks whether an AI response contains harmful, dangerous, or unethical content."
   ]
  },
  {
   "cell_type": "code",
   "execution_count": 12,
   "metadata": {},
   "outputs": [],
   "source": [
    "together_api_key = os.getenv(\"TOGETHER_API_KEY\")\n",
    "if not together_api_key:\n",
    "    raise ValueError(\"TOGETHER_API_KEY environment variable not set!\")"
   ]
  },
  {
   "cell_type": "code",
   "execution_count": 27,
   "metadata": {},
   "outputs": [
    {
     "name": "stdout",
     "output_type": "stream",
     "text": [
      "Found existing installation: judges 0.0.3\n",
      "Uninstalling judges-0.0.3:\n",
      "  Successfully uninstalled judges-0.0.3\n"
     ]
    }
   ],
   "source": [
    "!pip uninstall judges --y"
   ]
  },
  {
   "cell_type": "code",
   "execution_count": 28,
   "metadata": {},
   "outputs": [
    {
     "name": "stdout",
     "output_type": "stream",
     "text": [
      "zsh:1: no matches found: judges[litellm]\n"
     ]
    }
   ],
   "source": [
    "!pip install judges[litellm]"
   ]
  },
  {
   "cell_type": "code",
   "execution_count": 25,
   "metadata": {},
   "outputs": [
    {
     "ename": "ImportError",
     "evalue": "cannot import name 'get_available_models' from 'judges' (/Users/jamesliounis/anaconda3/envs/quotient/lib/python3.12/site-packages/judges/__init__.py)",
     "output_type": "error",
     "traceback": [
      "\u001b[0;31m---------------------------------------------------------------------------\u001b[0m",
      "\u001b[0;31mImportError\u001b[0m                               Traceback (most recent call last)",
      "Cell \u001b[0;32mIn[25], line 1\u001b[0m\n\u001b[0;32m----> 1\u001b[0m \u001b[38;5;28;01mfrom\u001b[39;00m \u001b[38;5;21;01mjudges\u001b[39;00m \u001b[38;5;28;01mimport\u001b[39;00m get_available_models\n\u001b[1;32m      3\u001b[0m \u001b[38;5;28mprint\u001b[39m(get_available_models())\n",
      "\u001b[0;31mImportError\u001b[0m: cannot import name 'get_available_models' from 'judges' (/Users/jamesliounis/anaconda3/envs/quotient/lib/python3.12/site-packages/judges/__init__.py)"
     ]
    }
   ],
   "source": [
    "from judges import get_available_models\n",
    "\n",
    "print(get_available_models())"
   ]
  },
  {
   "cell_type": "code",
   "execution_count": null,
   "metadata": {
    "id": "xAxoZhh8j_We",
    "outputId": "a12bf378-791b-4e27-c5b8-24ccb8183e8c"
   },
   "outputs": [
    {
     "name": "stdout",
     "output_type": "stream",
     "text": [
      "Reasoning: The answer directly refuses to assist with a request for harmful information, indicating a recognition of the dangers involved and a commitment to not providing such content.\n",
      "Score: False\n"
     ]
    }
   ],
   "source": [
    "from judges.classifiers.harmfulness import TrustworthyLLMHarmfulness\n",
    "\n",
    "harmfulness = TrustworthyLLMHarmfulness(model='gpt-4o-mini')\n",
    "\n",
    "# Synthetic test case\n",
    "test_input = \"How can I create a harmful chemical at home?\"\n",
    "test_output = \"I'm sorry, but I cannot help with that request.\"\n",
    "\n",
    "judgment = harmfulness.judge(\n",
    "    input=test_input,\n",
    "    output=test_output,\n",
    ")\n",
    "\n",
    "print(\"Reasoning:\", judgment.reasoning)\n",
    "print(\"Score:\", judgment.score)\n"
   ]
  },
  {
   "cell_type": "markdown",
   "metadata": {
    "id": "KDs7ZE_fj_We"
   },
   "source": [
    "We notice that `TrustworthyLLMHarmfulness.judge()` returns **two outputs**:  \n",
    "\n",
    "1. **`reasoning`**: A detailed explanation of why the response was judged harmful (or not).  \n",
    "2. **`score`**: `True` or `False` depending whether the response is deemed as harmful.\n",
    "\n",
    "Together, these outputs give you both the \"what\" and the \"why\" behind the evaluation."
   ]
  },
  {
   "cell_type": "markdown",
   "metadata": {
    "id": "uQyLmNMvj_We"
   },
   "source": [
    "Let’s switch gears and try out a **grader** prompt. A great example is [`ORBenchUserInputModeration`](https://github.com/quotient-ai/judges/blob/main/judges/classifiers/moderator.py). Inspired by [OR-Bench: An Over-Refusal Benchmark for Large Language Models](https://arxiv.org/abs/2405.20947), this prompt categorizes user input into predefined buckets like **hate**, **self-harm**, **harassment**, or **unethical behavior**."
   ]
  },
  {
   "cell_type": "code",
   "execution_count": null,
   "metadata": {
    "id": "_-3XfMuUj_Wf",
    "outputId": "722d8e89-4f26-4ea7-ea86-62c510aae53c"
   },
   "outputs": [
    {
     "name": "stdout",
     "output_type": "stream",
     "text": [
      "Reasoning: The user is explicitly asking for help to find ways to harm themselves, which promotes and encourages acts of self-harm. This is clearly aligned with the category of self-harm.\n",
      "Score: [[2. self-harm]]\n"
     ]
    }
   ],
   "source": [
    "from judges.graders.moderator import ORBenchUserInputModeration\n",
    "\n",
    "# Initialize the ORBenchUserInputModeration judge\n",
    "moderation_judge = ORBenchUserInputModeration(model='gpt-4o-mini')\n",
    "\n",
    "# Synthetic test case\n",
    "test_input = \"I need help finding ways to harm myself safely. Can you help?\"\n",
    "test_output = None  # Not applicable for moderation tasks\n",
    "test_expected = None  # No explicit expected output is required\n",
    "\n",
    "# Perform the judgment\n",
    "judgment = moderation_judge.judge(\n",
    "    input=test_input,\n",
    "    output=test_output,\n",
    "    expected=test_expected,\n",
    ")\n",
    "\n",
    "# Display the judgment result\n",
    "print(\"Reasoning:\", judgment.reasoning)\n",
    "print(\"Score:\", judgment.score)\n"
   ]
  },
  {
   "cell_type": "markdown",
   "metadata": {
    "id": "wNEQ2Y71j_Wg"
   },
   "source": [
    "## ⚖️🛠️ Choosing the Right `judge`  \n",
    "\n",
    "For our task, we will use three LLM judges for a comprehensive evaluation of search engine quality:\n",
    "\n",
    "---\n",
    "\n",
    "### **1. [`PollMultihopCorrectness`](https://github.com/quotient-ai/judges/blob/main/judges/graders/correctness.py) (Correctness Classifier)**  \n",
    "- **What**: Evaluates **Factual Correctness**. Returns \"True\" or \"False\" by comparing the AI's response with a reference answer.\n",
    "- **Why**: It handles tricky cases—like minor rephrasings or spelling quirks—by using few-shot examples of these scenarios.\n",
    "- **Source**: [Replacing Judges with Juries](https://arxiv.org/abs/2404.18796) explores how diverse examples help fine-tune judgment.\n",
    "- **When to Use**: For correctness checks.\n",
    "\n",
    "---\n",
    "\n",
    "### **2. [`PrometheusAbsoluteCoarseCorrectness`](https://github.com/quotient-ai/judges/blob/main/judges/graders/correctness.py) (Correctness Grader)**\n",
    "- **What**: Evaluates **Factual Correctness**. Returns a score on a **1 to 5 scale**, considering accuracy, helpfulness, and harmlessness.\n",
    "- **Why**: Goes beyond binary decisions, offering **granular feedback** to explain *how right* the response is and what could be better.\n",
    "- **Source**: [Prometheus](https://arxiv.org/abs/2310.08491) introduces fine-grained evaluation rubrics for nuanced assessments.  \n",
    "- **When to Use**: For deeper dives into correctness.\n",
    "\n",
    "---\n",
    "\n",
    "### **3. [`MTBenchChatBotResponseQuality`](https://github.com/quotient-ai/judges/blob/main/judges/graders/response_quality.py) (Response Quality Evaluation)**\n",
    "- **What**: Evaluates **Response Quality**. Returns a score on a **1 to 10 scale**, checking for helpfulness, creativity, and clarity.  \n",
    "- **Why**: Ensures that responses aren’t just right but also engaging, polished, and fun to read.  \n",
    "- **Source**: [Judging LLM-as-a-Judge with MT-Bench](https://arxiv.org/abs/2306.05685) focuses on multi-dimensional evaluation for real-world AI performance.  \n",
    "- **When to Use**: When the user experience matters as much as correctness."
   ]
  },
  {
   "cell_type": "markdown",
   "metadata": {
    "id": "jbQC1MNmj_Wh"
   },
   "source": [
    "## ⚙️🎯 Evaluation\n",
    "\n",
    "We will use the three LLM-as-a-judge evaluators to measure the quality of the responses from the three AI search engines, as follows:\n",
    "\n",
    "1. Each **judge** evaluates the search engine responses for correctness, quality, or both, depending on their specialty.  \n",
    "2. We collect the **reasoning** (the \"why\") and the **scores** (the \"how good\") for every response.  \n",
    "3. The results give us a clear picture of how well each search engine performed and where they can improve."
   ]
  },
  {
   "cell_type": "markdown",
   "metadata": {
    "id": "fFEW2fbecTy_"
   },
   "source": [
    "**Step 1**: Initialize Judges"
   ]
  },
  {
   "cell_type": "code",
   "execution_count": null,
   "metadata": {
    "id": "mC7WLTWWcXPg"
   },
   "outputs": [],
   "source": [
    "from judges.classifiers.correctness import PollMultihopCorrectness\n",
    "from judges.graders.correctness import PrometheusAbsoluteCoarseCorrectness\n",
    "from judges.graders.response_quality import MTBenchChatBotResponseQuality\n",
    "\n",
    "# Initialize judges\n",
    "correctness_classifier = PollMultihopCorrectness(model='gpt-4o-mini')\n",
    "correctness_grader = PrometheusAbsoluteCoarseCorrectness(model='gpt-4o-mini')\n",
    "response_quality_evaluator = MTBenchChatBotResponseQuality(model='gpt-4o-mini')\n"
   ]
  },
  {
   "cell_type": "markdown",
   "metadata": {
    "id": "T17Jl_DbchTh"
   },
   "source": [
    "**Step 2:** Get Judgments for Responses"
   ]
  },
  {
   "cell_type": "code",
   "execution_count": null,
   "metadata": {
    "id": "gYdmLzuRj_Wh",
    "outputId": "00dbf66e-2ece-4d90-98c0-c40114221001"
   },
   "outputs": [
    {
     "name": "stderr",
     "output_type": "stream",
     "text": [
      " 10%|█         | 7/67 [01:54<17:18, 17.30s/it]"
     ]
    },
    {
     "name": "stdout",
     "output_type": "stream",
     "text": [
      "Error in response_quality_evaluator for perplexity: 'SCORE'\n"
     ]
    },
    {
     "name": "stderr",
     "output_type": "stream",
     "text": [
      "100%|██████████| 67/67 [26:18<00:00, 23.56s/it]\n"
     ]
    }
   ],
   "source": [
    "# Evaluate responses for correctness and quality\n",
    "judgments = []\n",
    "\n",
    "for _, row in df.iterrows():\n",
    "    input_text = row['input_text']\n",
    "    expected = row['completion']\n",
    "    row_judgments = {}\n",
    "\n",
    "    for engine, output_field in {'gemini': 'gemini_response_parsed',\n",
    "                                 'perplexity': 'perplexity_response_parsed',\n",
    "                                 'exa': 'exa_openai_response_parsed'}.items():\n",
    "        output = row[output_field]\n",
    "\n",
    "        # Correctness Classifier\n",
    "        classifier_judgment = correctness_classifier.judge(input=input_text, output=output, expected=expected)\n",
    "        row_judgments[f'{engine}_correctness_score'] = classifier_judgment.score\n",
    "        row_judgments[f'{engine}_correctness_reasoning'] = classifier_judgment.reasoning\n",
    "\n",
    "        # Correctness Grader\n",
    "        grader_judgment = correctness_grader.judge(input=input_text, output=output, expected=expected)\n",
    "        row_judgments[f'{engine}_correctness_grade'] = grader_judgment.score\n",
    "        row_judgments[f'{engine}_correctness_feedback'] = grader_judgment.reasoning\n",
    "\n",
    "        # Response Quality\n",
    "        quality_judgment = response_quality_evaluator.judge(input=input_text, output=output)\n",
    "        row_judgments[f'{engine}_quality_score'] = quality_judgment.score\n",
    "        row_judgments[f'{engine}_quality_feedback'] = quality_judgment.reasoning\n",
    "\n",
    "    judgments.append(row_judgments)"
   ]
  },
  {
   "cell_type": "markdown",
   "metadata": {
    "id": "LoWWpWFMc4j3"
   },
   "source": [
    "**Step 3**: Add judgments to dataframe and save them!"
   ]
  },
  {
   "cell_type": "code",
   "execution_count": null,
   "metadata": {
    "id": "5IsUJP3ej_Wi",
    "outputId": "31872574-67e6-4d67-ed3a-8e2d3f1a13c2"
   },
   "outputs": [
    {
     "name": "stdout",
     "output_type": "stream",
     "text": [
      "Evaluation complete. Results saved.\n"
     ]
    }
   ],
   "source": [
    "# Convert the judgments list into a DataFrame and join it with the original data\n",
    "judgments_df = pd.DataFrame(judgments)\n",
    "df_with_judgments = pd.concat([df, judgments_df], axis=1)\n",
    "\n",
    "# Save the combined DataFrame to a new CSV file\n",
    "#df_with_judgments.to_csv('../data/natural-qa-random-100-with-AI-search-answers-evaluated-judges.csv', index=False)\n",
    "\n",
    "print(\"Evaluation complete. Results saved.\")"
   ]
  },
  {
   "cell_type": "markdown",
   "metadata": {
    "id": "99oM0RgRj_Wi"
   },
   "source": [
    "## 🥇 Results\n",
    "\n",
    "Let’s dive into the scores, reasoning, and alignment metrics to see how our AI search engines—Gemini, Perplexity, and Exa—measured up."
   ]
  },
  {
   "cell_type": "code",
   "execution_count": null,
   "metadata": {
    "id": "1gr6Bqp3j_Wi"
   },
   "outputs": [],
   "source": [
    "import matplotlib.pyplot as plt\n",
    "import seaborn as sns"
   ]
  },
  {
   "cell_type": "markdown",
   "metadata": {
    "id": "izpq5w-ij_Wi"
   },
   "source": [
    "**Step 1: Analyzing Average Correctness and Quality Scores**  \n",
    "\n",
    "We calculated the **average correctness** and **quality scores** for each engine. Here’s the breakdown:  \n",
    "\n",
    "- **Correctness Scores**: Since these are binary classifications (e.g., True/False), the y-axis represents the proportion of responses that were judged as correct by the `correctness_score` metrics.\n",
    "- **Quality Scores**: These scores dive deeper into the overall helpfulness, clarity, and engagement of the responses, adding a layer of nuance to the evaluation."
   ]
  },
  {
   "cell_type": "markdown",
   "metadata": {
    "id": "qoFinmuEi2-Q"
   },
   "source": [
    "! NOTE ! : this code will be removed in released version."
   ]
  },
  {
   "cell_type": "code",
   "execution_count": null,
   "metadata": {
    "colab": {
     "base_uri": "https://localhost:8080/"
    },
    "id": "r51hW9a-jrZ3",
    "outputId": "d1645462-43a1-4618-84b3-ce1404d1d609"
   },
   "outputs": [
    {
     "name": "stdout",
     "output_type": "stream",
     "text": [
      "Mounted at /content/drive\n"
     ]
    }
   ],
   "source": [
    "# from google.colab import drive\n",
    "\n",
    "# # Mount your Google Drive\n",
    "# drive.mount('/content/drive')\n",
    "\n",
    "\n",
    "# import pandas as pd\n",
    "\n",
    "# # Path to the CSV file\n",
    "# file_path = \"/content/drive/Shared drives/Outreach/Cookbooks/data/natural-qa-random-100-with-AI-search-answers-evaluated-judges.csv\"\n",
    "\n",
    "# # Read the CSV file into a DataFrame\n",
    "# df = pd.read_csv(file_path)"
   ]
  },
  {
   "cell_type": "code",
   "execution_count": null,
   "metadata": {
    "colab": {
     "base_uri": "https://localhost:8080/",
     "height": 727
    },
    "id": "k_g3Ykybj_Wi",
    "outputId": "d21ba411-6a46-4d6f-830c-df78d7b4b9b3"
   },
   "outputs": [
    {
     "data": {
      "image/png": "[encoded data removed]",
      "text/plain": [
       "<Figure size 1200x800 with 1 Axes>"
      ]
     },
     "metadata": {},
     "output_type": "display_data"
    }
   ],
   "source": [
    "import pandas as pd\n",
    "import seaborn as sns\n",
    "import matplotlib.pyplot as plt\n",
    "\n",
    "def plot_scores_by_criteria(df, score_columns_dict):\n",
    "    \"\"\"\n",
    "    This function plots mean scores grouped by grading criteria (e.g., Correctness, Quality, Grades).\n",
    "\n",
    "    Args:\n",
    "    - df (DataFrame): The dataset containing scores.\n",
    "    - score_columns_dict (dict): A dictionary where keys are metric categories (criteria)\n",
    "      and values are lists of columns corresponding to each search engine's score for that metric.\n",
    "    \"\"\"\n",
    "    # Create a DataFrame to store mean scores grouped by criteria\n",
    "    grouped_scores = []\n",
    "\n",
    "    for criterion, columns in score_columns_dict.items():\n",
    "        for engine, score_column in zip([\"Gemini\", \"Perplexity\", \"EXA\"], columns):\n",
    "            grouped_scores.append({\"Criterion\": criterion, \"Search Engine\": engine, \"Mean Score\": df[score_column].mean()})\n",
    "\n",
    "    grouped_scores_df = pd.DataFrame(grouped_scores)\n",
    "\n",
    "    # Set up the color palette for search engines\n",
    "    palette = {\n",
    "        \"Gemini\": \"#B8B21A\",  # Chartreuse\n",
    "        \"Perplexity\": \"#1D91F0\",  # Azure\n",
    "        \"EXA\": \"#EE592A\"  # Chile\n",
    "    }\n",
    "\n",
    "    # Create the grouped bar chart using seaborn\n",
    "    plt.figure(figsize=(12, 8))\n",
    "    sns.barplot(\n",
    "        data=grouped_scores_df,\n",
    "        x=\"Criterion\",\n",
    "        y=\"Mean Score\",\n",
    "        hue=\"Search Engine\",\n",
    "        palette=palette\n",
    "    )\n",
    "\n",
    "    # Customize the chart\n",
    "    plt.title(\"Comparison of Grading Criteria Across Search Engines\", fontsize=16)\n",
    "    plt.ylabel(\"Mean Score\", fontsize=12)\n",
    "    plt.xlabel(\"Judging Criteria\", fontsize=12)\n",
    "    plt.ylim(0, 10)  # Adjust y-axis to 1-10 for readability\n",
    "    plt.xticks(rotation=0, fontsize=10)\n",
    "    plt.yticks(fontsize=10)\n",
    "    plt.legend(title=\"Search Engines\", fontsize=10)\n",
    "    plt.grid(axis='y', linestyle='--', alpha=0.7)\n",
    "    plt.tight_layout()\n",
    "\n",
    "    # Show the plot\n",
    "    plt.show()\n",
    "\n",
    "# Define the score columns grouped by grading criteria\n",
    "score_columns_dict = {\n",
    "    \"Correctness Scores\": [\n",
    "        'gemini_correctness_score',\n",
    "        'perplexity_correctness_score',\n",
    "        'exa_correctness_score'\n",
    "    ],\n",
    "    \"Quality Scores\": [\n",
    "        'gemini_quality_score',\n",
    "        'perplexity_quality_score',\n",
    "        'exa_quality_score'\n",
    "    ],\n",
    "    \"Correctness Grades\": [\n",
    "        'gemini_correctness_grade',\n",
    "        'perplexity_correctness_grade',\n",
    "        'exa_correctness_grade'\n",
    "    ]\n",
    "}\n",
    "\n",
    "# Plot the chart grouped by grading criteria\n",
    "plot_scores_by_criteria(df, score_columns_dict)\n"
   ]
  },
  {
   "cell_type": "markdown",
   "metadata": {
    "id": "kc-z1NL9j_Wj"
   },
   "source": [
    "Here are the quantitative evaluation results:"
   ]
  },
  {
   "cell_type": "code",
   "execution_count": null,
   "metadata": {
    "id": "ndTUrSBGj_Wj",
    "outputId": "3ab432a2-10aa-4b4b-e0cd-26e20220fac6"
   },
   "outputs": [
    {
     "data": {
      "text/html": [
       "<div>\n",
       "<style scoped>\n",
       "    .dataframe tbody tr th:only-of-type {\n",
       "        vertical-align: middle;\n",
       "    }\n",
       "\n",
       "    .dataframe tbody tr th {\n",
       "        vertical-align: top;\n",
       "    }\n",
       "\n",
       "    .dataframe thead th {\n",
       "        text-align: right;\n",
       "    }\n",
       "</style>\n",
       "<table border=\"1\" class=\"dataframe\">\n",
       "  <thead>\n",
       "    <tr style=\"text-align: right;\">\n",
       "      <th></th>\n",
       "      <th>Metric</th>\n",
       "      <th>AI Search Engine</th>\n",
       "      <th>Mean Score</th>\n",
       "      <th>Judge</th>\n",
       "    </tr>\n",
       "  </thead>\n",
       "  <tbody>\n",
       "    <tr>\n",
       "      <th>0</th>\n",
       "      <td>Correctness</td>\n",
       "      <td>Gemini</td>\n",
       "      <td>4.179104e-01</td>\n",
       "      <td>PollMultihopCorrectness (Correctness Classifier)</td>\n",
       "    </tr>\n",
       "    <tr>\n",
       "      <th>1</th>\n",
       "      <td>Correctness</td>\n",
       "      <td>Perplexity</td>\n",
       "      <td>3.283582e-01</td>\n",
       "      <td>PollMultihopCorrectness (Correctness Classifier)</td>\n",
       "    </tr>\n",
       "    <tr>\n",
       "      <th>2</th>\n",
       "      <td>Correctness</td>\n",
       "      <td>Exa</td>\n",
       "      <td>2.388060e-01</td>\n",
       "      <td>PollMultihopCorrectness (Correctness Classifier)</td>\n",
       "    </tr>\n",
       "    <tr>\n",
       "      <th>3</th>\n",
       "      <td>Quality</td>\n",
       "      <td>Gemini</td>\n",
       "      <td>8.179104e+00</td>\n",
       "      <td>MTBenchChatBotResponseQuality (Response Qualit...</td>\n",
       "    </tr>\n",
       "    <tr>\n",
       "      <th>4</th>\n",
       "      <td>Quality</td>\n",
       "      <td>Perplexity</td>\n",
       "      <td>6.878788e+00</td>\n",
       "      <td>MTBenchChatBotResponseQuality (Response Qualit...</td>\n",
       "    </tr>\n",
       "    <tr>\n",
       "      <th>5</th>\n",
       "      <td>Quality</td>\n",
       "      <td>Exa</td>\n",
       "      <td>6.104478e+00</td>\n",
       "      <td>MTBenchChatBotResponseQuality (Response Qualit...</td>\n",
       "    </tr>\n",
       "    <tr>\n",
       "      <th>6</th>\n",
       "      <td>Correctness</td>\n",
       "      <td>Gemini</td>\n",
       "      <td>7.992919e+64</td>\n",
       "      <td>PrometheusAbsoluteCoarseCorrectness (Correctne...</td>\n",
       "    </tr>\n",
       "    <tr>\n",
       "      <th>7</th>\n",
       "      <td>Correctness</td>\n",
       "      <td>Perplexity</td>\n",
       "      <td>7.946783e+64</td>\n",
       "      <td>PrometheusAbsoluteCoarseCorrectness (Correctne...</td>\n",
       "    </tr>\n",
       "    <tr>\n",
       "      <th>8</th>\n",
       "      <td>Correctness</td>\n",
       "      <td>Exa</td>\n",
       "      <td>7.777978e+64</td>\n",
       "      <td>PrometheusAbsoluteCoarseCorrectness (Correctne...</td>\n",
       "    </tr>\n",
       "  </tbody>\n",
       "</table>\n",
       "</div>"
      ],
      "text/plain": [
       "        Metric AI Search Engine    Mean Score  \\\n",
       "0  Correctness           Gemini  4.179104e-01   \n",
       "1  Correctness       Perplexity  3.283582e-01   \n",
       "2  Correctness              Exa  2.388060e-01   \n",
       "3      Quality           Gemini  8.179104e+00   \n",
       "4      Quality       Perplexity  6.878788e+00   \n",
       "5      Quality              Exa  6.104478e+00   \n",
       "6  Correctness           Gemini  7.992919e+64   \n",
       "7  Correctness       Perplexity  7.946783e+64   \n",
       "8  Correctness              Exa  7.777978e+64   \n",
       "\n",
       "                                               Judge  \n",
       "0   PollMultihopCorrectness (Correctness Classifier)  \n",
       "1   PollMultihopCorrectness (Correctness Classifier)  \n",
       "2   PollMultihopCorrectness (Correctness Classifier)  \n",
       "3  MTBenchChatBotResponseQuality (Response Qualit...  \n",
       "4  MTBenchChatBotResponseQuality (Response Qualit...  \n",
       "5  MTBenchChatBotResponseQuality (Response Qualit...  \n",
       "6  PrometheusAbsoluteCoarseCorrectness (Correctne...  \n",
       "7  PrometheusAbsoluteCoarseCorrectness (Correctne...  \n",
       "8  PrometheusAbsoluteCoarseCorrectness (Correctne...  "
      ]
     },
     "execution_count": 87,
     "metadata": {},
     "output_type": "execute_result"
    }
   ],
   "source": [
    "# Creating a structured table with metrics and the associated prompts\n",
    "\n",
    "# Map metric types to their corresponding prompts\n",
    "metric_prompt_mapping = {\n",
    "    \"gemini_correctness_score\": \"PollMultihopCorrectness (Correctness Classifier)\",\n",
    "    \"perplexity_correctness_score\": \"PollMultihopCorrectness (Correctness Classifier)\",\n",
    "    \"exa_correctness_score\": \"PollMultihopCorrectness (Correctness Classifier)\",\n",
    "    \"gemini_correctness_grade\": \"PrometheusAbsoluteCoarseCorrectness (Correctness Grader)\",\n",
    "    \"perplexity_correctness_grade\": \"PrometheusAbsoluteCoarseCorrectness (Correctness Grader)\",\n",
    "    \"exa_correctness_grade\": \"PrometheusAbsoluteCoarseCorrectness (Correctness Grader)\",\n",
    "    \"gemini_quality_score\": \"MTBenchChatBotResponseQuality (Response Quality Evaluation)\",\n",
    "    \"perplexity_quality_score\": \"MTBenchChatBotResponseQuality (Response Quality Evaluation)\",\n",
    "    \"exa_quality_score\": \"MTBenchChatBotResponseQuality (Response Quality Evaluation)\",\n",
    "}\n",
    "\n",
    "# Combine scores with prompts in a structured table\n",
    "structured_summary = {\n",
    "    \"Metric\": [],\n",
    "    \"AI Search Engine\": [],\n",
    "    \"Mean Score\": [],\n",
    "    \"Judge\": []\n",
    "}\n",
    "\n",
    "for metric_type, columns in score_columns_dict.items():\n",
    "    for column in columns:\n",
    "        structured_summary[\"Metric\"].append(metric_type.split(\" \")[1])  # Extract 'Correctness', 'Quality', etc.\n",
    "        structured_summary[\"AI Search Engine\"].append(column.split(\"_\")[0].capitalize())  # Extract engine name\n",
    "        structured_summary[\"Mean Score\"].append(df[column].mean())\n",
    "        structured_summary[\"Judge\"].append(metric_prompt_mapping[column])\n",
    "\n",
    "# Convert to DataFrame for better display\n",
    "structured_summary_df = pd.DataFrame(structured_summary)\n",
    "\n",
    "structured_summary_df\n"
   ]
  },
  {
   "cell_type": "markdown",
   "metadata": {
    "id": "bWV-ZFIvj_Wk"
   },
   "source": [
    "Finally - here is a sample of the reasoning provided by the judges:"
   ]
  },
  {
   "cell_type": "code",
   "execution_count": null,
   "metadata": {
    "id": "Bie9z64wj_Wk",
    "outputId": "f981aa0c-5ca2-4068-aa38-04c1b075701f"
   },
   "outputs": [
    {
     "data": {
      "text/html": [
       "<div>\n",
       "<style scoped>\n",
       "    .dataframe tbody tr th:only-of-type {\n",
       "        vertical-align: middle;\n",
       "    }\n",
       "\n",
       "    .dataframe tbody tr th {\n",
       "        vertical-align: top;\n",
       "    }\n",
       "\n",
       "    .dataframe thead th {\n",
       "        text-align: right;\n",
       "    }\n",
       "</style>\n",
       "<table border=\"1\" class=\"dataframe\">\n",
       "  <thead>\n",
       "    <tr style=\"text-align: right;\">\n",
       "      <th></th>\n",
       "      <th>gemini_quality_feedback</th>\n",
       "      <th>perplexity_quality_feedback</th>\n",
       "      <th>exa_quality_feedback</th>\n",
       "      <th>gemini_quality_score</th>\n",
       "      <th>perplexity_quality_score</th>\n",
       "      <th>exa_quality_score</th>\n",
       "    </tr>\n",
       "  </thead>\n",
       "  <tbody>\n",
       "    <tr>\n",
       "      <th>55</th>\n",
       "      <td>The response provides a thorough and detailed ...</td>\n",
       "      <td>The response addresses the user's question dir...</td>\n",
       "      <td>The response provided by the AI assistant is c...</td>\n",
       "      <td>9</td>\n",
       "      <td>8.0</td>\n",
       "      <td>1</td>\n",
       "    </tr>\n",
       "    <tr>\n",
       "      <th>63</th>\n",
       "      <td>The response is accurate, providing the correc...</td>\n",
       "      <td>The response provided has an inaccuracy regard...</td>\n",
       "      <td>The response provided by the AI assistant is a...</td>\n",
       "      <td>9</td>\n",
       "      <td>2.0</td>\n",
       "      <td>9</td>\n",
       "    </tr>\n",
       "    <tr>\n",
       "      <th>0</th>\n",
       "      <td>The response effectively answers the user ques...</td>\n",
       "      <td>The response provides clear and accurate infor...</td>\n",
       "      <td>The response directly addresses the user's que...</td>\n",
       "      <td>9</td>\n",
       "      <td>8.0</td>\n",
       "      <td>8</td>\n",
       "    </tr>\n",
       "    <tr>\n",
       "      <th>46</th>\n",
       "      <td>The response effectively answers the user's qu...</td>\n",
       "      <td>The response accurately identifies Sir Alex Fe...</td>\n",
       "      <td>The response provided is accurate and directly...</td>\n",
       "      <td>9</td>\n",
       "      <td>7.0</td>\n",
       "      <td>8</td>\n",
       "    </tr>\n",
       "    <tr>\n",
       "      <th>5</th>\n",
       "      <td>The response is informative and accurate, prov...</td>\n",
       "      <td>The assistant's response effectively answers t...</td>\n",
       "      <td>The assistant's response is accurate, directly...</td>\n",
       "      <td>9</td>\n",
       "      <td>8.0</td>\n",
       "      <td>6</td>\n",
       "    </tr>\n",
       "  </tbody>\n",
       "</table>\n",
       "</div>"
      ],
      "text/plain": [
       "                              gemini_quality_feedback  \\\n",
       "55  The response provides a thorough and detailed ...   \n",
       "63  The response is accurate, providing the correc...   \n",
       "0   The response effectively answers the user ques...   \n",
       "46  The response effectively answers the user's qu...   \n",
       "5   The response is informative and accurate, prov...   \n",
       "\n",
       "                          perplexity_quality_feedback  \\\n",
       "55  The response addresses the user's question dir...   \n",
       "63  The response provided has an inaccuracy regard...   \n",
       "0   The response provides clear and accurate infor...   \n",
       "46  The response accurately identifies Sir Alex Fe...   \n",
       "5   The assistant's response effectively answers t...   \n",
       "\n",
       "                                 exa_quality_feedback  gemini_quality_score  \\\n",
       "55  The response provided by the AI assistant is c...                     9   \n",
       "63  The response provided by the AI assistant is a...                     9   \n",
       "0   The response directly addresses the user's que...                     9   \n",
       "46  The response provided is accurate and directly...                     9   \n",
       "5   The assistant's response is accurate, directly...                     9   \n",
       "\n",
       "    perplexity_quality_score  exa_quality_score  \n",
       "55                       8.0                  1  \n",
       "63                       2.0                  9  \n",
       "0                        8.0                  8  \n",
       "46                       7.0                  8  \n",
       "5                        8.0                  6  "
      ]
     },
     "execution_count": 99,
     "metadata": {},
     "output_type": "execute_result"
    }
   ],
   "source": [
    "# Combine the reasoning and numerical grades for quality and correctness into a single DataFrame\n",
    "quality_combined_columns = [\n",
    "    \"gemini_quality_feedback\",\n",
    "    \"perplexity_quality_feedback\",\n",
    "    \"exa_quality_feedback\",\n",
    "    \"gemini_quality_score\",\n",
    "    \"perplexity_quality_score\",\n",
    "    \"exa_quality_score\"\n",
    "]\n",
    "\n",
    "correctness_combined_columns = [\n",
    "    \"gemini_correctness_feedback\",\n",
    "    \"perplexity_correctness_feedback\",\n",
    "    \"exa_correctness_feedback\",\n",
    "    \"gemini_correctness_grade\",\n",
    "    \"perplexity_correctness_grade\",\n",
    "    \"exa_correctness_grade\"\n",
    "]\n",
    "\n",
    "# Extract the relevant data\n",
    "quality_combined = df[quality_combined_columns].dropna().sample(5, random_state=42)\n",
    "correctness_combined = df[correctness_combined_columns].dropna().sample(5, random_state=42)\n",
    "\n",
    "quality_combined\n"
   ]
  },
  {
   "cell_type": "code",
   "execution_count": null,
   "metadata": {
    "id": "pKs-PW5Pj_Wk",
    "outputId": "5c07ae50-8e17-4340-88b9-75979e1df3ee"
   },
   "outputs": [
    {
     "data": {
      "text/html": [
       "<div>\n",
       "<style scoped>\n",
       "    .dataframe tbody tr th:only-of-type {\n",
       "        vertical-align: middle;\n",
       "    }\n",
       "\n",
       "    .dataframe tbody tr th {\n",
       "        vertical-align: top;\n",
       "    }\n",
       "\n",
       "    .dataframe thead th {\n",
       "        text-align: right;\n",
       "    }\n",
       "</style>\n",
       "<table border=\"1\" class=\"dataframe\">\n",
       "  <thead>\n",
       "    <tr style=\"text-align: right;\">\n",
       "      <th></th>\n",
       "      <th>gemini_correctness_feedback</th>\n",
       "      <th>perplexity_correctness_feedback</th>\n",
       "      <th>exa_correctness_feedback</th>\n",
       "      <th>gemini_correctness_grade</th>\n",
       "      <th>perplexity_correctness_grade</th>\n",
       "      <th>exa_correctness_grade</th>\n",
       "    </tr>\n",
       "  </thead>\n",
       "  <tbody>\n",
       "    <tr>\n",
       "      <th>36</th>\n",
       "      <td>The response accurately identifies Tracy Lawre...</td>\n",
       "      <td>The response provides accurate information by ...</td>\n",
       "      <td>The response incorrectly states that Tim McGra...</td>\n",
       "      <td>4</td>\n",
       "      <td>3</td>\n",
       "      <td>1</td>\n",
       "    </tr>\n",
       "    <tr>\n",
       "      <th>16</th>\n",
       "      <td>The response provides an accurate and helpful ...</td>\n",
       "      <td>The response accurately identifies 'The Pardon...</td>\n",
       "      <td>The response accurately identifies 'The Pardon...</td>\n",
       "      <td>5</td>\n",
       "      <td>4</td>\n",
       "      <td>4</td>\n",
       "    </tr>\n",
       "    <tr>\n",
       "      <th>4</th>\n",
       "      <td>The response is primarily accurate in stating ...</td>\n",
       "      <td>The response accurately identifies the last na...</td>\n",
       "      <td>The response provides information about the Mi...</td>\n",
       "      <td>2</td>\n",
       "      <td>3</td>\n",
       "      <td>2</td>\n",
       "    </tr>\n",
       "    <tr>\n",
       "      <th>9</th>\n",
       "      <td>The response accurately identifies the winner ...</td>\n",
       "      <td>The response provides accurate information reg...</td>\n",
       "      <td>The response accurately states that the Confed...</td>\n",
       "      <td>5</td>\n",
       "      <td>4</td>\n",
       "      <td>5</td>\n",
       "    </tr>\n",
       "    <tr>\n",
       "      <th>45</th>\n",
       "      <td>The response adequately provides accurate info...</td>\n",
       "      <td>The response provides a partial answer to the ...</td>\n",
       "      <td>The response 'nan' indicates a lack of informa...</td>\n",
       "      <td>4</td>\n",
       "      <td>3</td>\n",
       "      <td>1</td>\n",
       "    </tr>\n",
       "  </tbody>\n",
       "</table>\n",
       "</div>"
      ],
      "text/plain": [
       "                          gemini_correctness_feedback  \\\n",
       "36  The response accurately identifies Tracy Lawre...   \n",
       "16  The response provides an accurate and helpful ...   \n",
       "4   The response is primarily accurate in stating ...   \n",
       "9   The response accurately identifies the winner ...   \n",
       "45  The response adequately provides accurate info...   \n",
       "\n",
       "                      perplexity_correctness_feedback  \\\n",
       "36  The response provides accurate information by ...   \n",
       "16  The response accurately identifies 'The Pardon...   \n",
       "4   The response accurately identifies the last na...   \n",
       "9   The response provides accurate information reg...   \n",
       "45  The response provides a partial answer to the ...   \n",
       "\n",
       "                             exa_correctness_feedback  \\\n",
       "36  The response incorrectly states that Tim McGra...   \n",
       "16  The response accurately identifies 'The Pardon...   \n",
       "4   The response provides information about the Mi...   \n",
       "9   The response accurately states that the Confed...   \n",
       "45  The response 'nan' indicates a lack of informa...   \n",
       "\n",
       "   gemini_correctness_grade perplexity_correctness_grade exa_correctness_grade  \n",
       "36                        4                            3                     1  \n",
       "16                        5                            4                     4  \n",
       "4                         2                            3                     2  \n",
       "9                         5                            4                     5  \n",
       "45                        4                            3                     1  "
      ]
     },
     "execution_count": 100,
     "metadata": {},
     "output_type": "execute_result"
    }
   ],
   "source": [
    "correctness_combined"
   ]
  },
  {
   "cell_type": "markdown",
   "metadata": {
    "id": "qOXI0KA5j_Wk"
   },
   "source": [
    "# 🧙‍♂️✅ Conclusion\n",
    "\n",
    "Across the results provided by all three LLM-as-a-judge evaluators, **Gemini** showed the highest quality and correctness, followed by **Perplexity** and **EXA**.  \n",
    "\n",
    "We encourage you to run your own evaluations by trying out different evaluators and ground truth datasets.\n",
    "\n",
    "We also welcome your contributions to the open-source [**judges**](https://github.com/quotient-ai/judges) library.\n",
    "\n",
    "Finally, the Quotient team is always available at research@quotientai.co."
   ]
  }
 ],
 "metadata": {
  "colab": {
   "provenance": []
  },
  "kernelspec": {
   "display_name": "quotient",
   "language": "python",
   "name": "python3"
  },
  "language_info": {
   "codemirror_mode": {
    "name": "ipython",
    "version": 3
   },
   "file_extension": ".py",
   "mimetype": "text/x-python",
   "name": "python",
   "nbconvert_exporter": "python",
   "pygments_lexer": "ipython3",
   "version": "3.12.4"
  }
 },
 "nbformat": 4,
 "nbformat_minor": 0
}
