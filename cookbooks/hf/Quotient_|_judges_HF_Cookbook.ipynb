{
 "cells": [
  {
   "cell_type": "markdown",
   "metadata": {
    "id": "XJCjHC1Cig3c"
   },
   "source": [
    "# Evaluating AI Search Engines with `judges` ⚖️   \n",
    "\n",
    "\n",
    "Evaluating the outputs of Large Language Models (LLMs) is often a challenging task, requiring nuanced criteria that are difficult to quantify and even harder to automate. For instance, how do we reliably assess if a model’s response is:  \n",
    "- factually accurate?  \n",
    "- concise yet comprehensive?  \n",
    "- free of hallucinations?  \n",
    "- aligned with ethical and domain-specific guidelines?  \n",
    "\n",
    "These questions demand a human-like understanding that traditional metrics like BLEU or ROUGE often fail to capture. Crafting rule-based systems for such evaluations is equally daunting due to the subjective and complex nature of these tasks.  \n",
    "\n",
    "✅ Enter `judges`: an open-source [library](https://github.com/quotient-ai/judges) that simplifies and streamlines LLM evaluations with pre-built and customizable evaluators. It’s designed for a wide range of use cases, from factual correctness to hallucination detection, and offers a low-friction interface for both quick setups and advanced customizations.  \n",
    "\n",
    "💡 The core idea is simple yet transformative: use LLMs themselves to evaluate other LLMs—efficiently, scalably, and with human-like reasoning.\n",
    "\n",
    "🤖✓ The prompts behind these LLM judges are backed by state-of-the-art research, including influential works such as _\"Judging LLM-as-a-Judge with MT-Bench and Chatbot Arena\"_ ([Wang et al., 2023](https://arxiv.org/abs/2306.05685)) and _\"Replacing Judges with Juries: Evaluating LLM Generations with a Panel of Diverse Models\"_([Hu et al., 2024](https://arxiv.org/abs/2404.18796)).  \n",
    "\n",
    "\n",
    "We’re diving into the *Natural Questions* dataset—a collection of real-world questions matched to Wikipedia answers—to see how `judges` can help evaluate the quality of responses from AI search engines. Think of it as a \"judge-off\" to compare responses from Perplexity, EXA, and Gemini with what we already know are \"good\" answers. Here's the game plan:  \n",
    "\n",
    "1. Start with a **pre-labeled dataset** where responses are tagged as \"good\" or \"bad\" (based on Wikipedia content, naturally).  \n",
    "2. Let the **AI search engines** generate responses that match those \"good\" examples.  \n",
    "3. Bring in the `judges` to evaluate the responses for **correctness** and **quality**—and maybe even uncover where the search engines need to up their game.  \n",
    "\n",
    "By the end, you’ll see how `judges` isn’t just about scoring; it’s about simplifying your workflow while keeping the evaluation robust and scalable. Ready? Let’s get to it! 🚀"
   ]
  },
  {
   "cell_type": "code",
   "execution_count": null,
   "metadata": {},
   "outputs": [],
   "source": [
    "# !pip install judges datasets google-generativeai exa_py"
   ]
  },
  {
   "cell_type": "code",
   "execution_count": 3,
   "metadata": {},
   "outputs": [
    {
     "data": {
      "text/plain": [
       "True"
      ]
     },
     "execution_count": 3,
     "metadata": {},
     "output_type": "execute_result"
    }
   ],
   "source": [
    "import pandas as pd\n",
    "from dotenv import load_dotenv\n",
    "import os\n",
    "from IPython.display import Markdown, HTML\n",
    "from tqdm import tqdm\n",
    "\n",
    "load_dotenv()"
   ]
  },
  {
   "cell_type": "code",
   "execution_count": 10,
   "metadata": {
    "colab": {
     "base_uri": "https://localhost:8080/"
    },
    "id": "F-IXo8OXeS53",
    "outputId": "68fc4755-340a-4343-cd6b-9cc2997e12ee"
   },
   "outputs": [
    {
     "name": "stdout",
     "output_type": "stream",
     "text": [
      "The token has not been saved to the git credentials helper. Pass `add_to_git_credential=True` in this function directly or `--add-to-git-credential` if using via `huggingface-cli` if you want to set the git credential as well.\n",
      "Token is valid (permission: read).\n",
      "Your token has been saved to /Users/jamesliounis/.cache/huggingface/token\n",
      "Login successful\n"
     ]
    }
   ],
   "source": [
    "HF_API_KEY = os.getenv('HF_API_KEY')\n",
    "\n",
    "if HF_API_KEY:\n",
    "    !huggingface-cli login --token $HF_API_KEY\n",
    "else:\n",
    "    print(\"Hugging Face API key not found.\")"
   ]
  },
  {
   "cell_type": "code",
   "execution_count": 6,
   "metadata": {
    "colab": {
     "base_uri": "https://localhost:8080/",
     "height": 204
    },
    "id": "hWW6wdPTdEW9",
    "outputId": "4f003a88-5248-450c-f42a-5a4527cec8d1"
   },
   "outputs": [
    {
     "data": {
      "text/html": [
       "<div>\n",
       "<style scoped>\n",
       "    .dataframe tbody tr th:only-of-type {\n",
       "        vertical-align: middle;\n",
       "    }\n",
       "\n",
       "    .dataframe tbody tr th {\n",
       "        vertical-align: top;\n",
       "    }\n",
       "\n",
       "    .dataframe thead th {\n",
       "        text-align: right;\n",
       "    }\n",
       "</style>\n",
       "<table border=\"1\" class=\"dataframe\">\n",
       "  <thead>\n",
       "    <tr style=\"text-align: right;\">\n",
       "      <th></th>\n",
       "      <th>url</th>\n",
       "      <th>input_text</th>\n",
       "      <th>completion</th>\n",
       "      <th>label</th>\n",
       "      <th>feedback</th>\n",
       "    </tr>\n",
       "  </thead>\n",
       "  <tbody>\n",
       "    <tr>\n",
       "      <th>1</th>\n",
       "      <td>https://en.wikipedia.org//w/index.php?title=Un...</td>\n",
       "      <td>what is the title of the person who runs the h...</td>\n",
       "      <td>['Speaker of the House']</td>\n",
       "      <td>good</td>\n",
       "      <td>None</td>\n",
       "    </tr>\n",
       "    <tr>\n",
       "      <th>2</th>\n",
       "      <td>https://en.wikipedia.org//w/index.php?title=Th...</td>\n",
       "      <td>yo la tengo theres a riot going on release date</td>\n",
       "      <td>['March 16, 2018']</td>\n",
       "      <td>good</td>\n",
       "      <td>None</td>\n",
       "    </tr>\n",
       "    <tr>\n",
       "      <th>3</th>\n",
       "      <td>https://en.wikipedia.org//w/index.php?title=Th...</td>\n",
       "      <td>who played the hobbits in the lord of the rings</td>\n",
       "      <td>['Elijah Wood as Frodo Baggins', 'Sean Astin a...</td>\n",
       "      <td>good</td>\n",
       "      <td>None</td>\n",
       "    </tr>\n",
       "    <tr>\n",
       "      <th>4</th>\n",
       "      <td>https://en.wikipedia.org//w/index.php?title=Th...</td>\n",
       "      <td>where does the show the path take place</td>\n",
       "      <td>['Upstate New York']</td>\n",
       "      <td>good</td>\n",
       "      <td>None</td>\n",
       "    </tr>\n",
       "    <tr>\n",
       "      <th>5</th>\n",
       "      <td>https://en.wikipedia.org//w/index.php?title=Mi...</td>\n",
       "      <td>when did michigan last win a national champion...</td>\n",
       "      <td>['1989']</td>\n",
       "      <td>good</td>\n",
       "      <td>None</td>\n",
       "    </tr>\n",
       "  </tbody>\n",
       "</table>\n",
       "</div>"
      ],
      "text/plain": [
       "                                                 url  \\\n",
       "1  https://en.wikipedia.org//w/index.php?title=Un...   \n",
       "2  https://en.wikipedia.org//w/index.php?title=Th...   \n",
       "3  https://en.wikipedia.org//w/index.php?title=Th...   \n",
       "4  https://en.wikipedia.org//w/index.php?title=Th...   \n",
       "5  https://en.wikipedia.org//w/index.php?title=Mi...   \n",
       "\n",
       "                                          input_text  \\\n",
       "1  what is the title of the person who runs the h...   \n",
       "2    yo la tengo theres a riot going on release date   \n",
       "3    who played the hobbits in the lord of the rings   \n",
       "4            where does the show the path take place   \n",
       "5  when did michigan last win a national champion...   \n",
       "\n",
       "                                          completion label feedback  \n",
       "1                           ['Speaker of the House']  good     None  \n",
       "2                                 ['March 16, 2018']  good     None  \n",
       "3  ['Elijah Wood as Frodo Baggins', 'Sean Astin a...  good     None  \n",
       "4                               ['Upstate New York']  good     None  \n",
       "5                                           ['1989']  good     None  "
      ]
     },
     "execution_count": 6,
     "metadata": {},
     "output_type": "execute_result"
    }
   ],
   "source": [
    "from datasets import load_dataset\n",
    "\n",
    "dataset = load_dataset(\"quotientai/labeled-natural-qa-random-100\")\n",
    "\n",
    "data = dataset['train'].to_pandas()\n",
    "\n",
    "data = data[data['label'] == 'good']\n",
    "\n",
    "data.head()\n"
   ]
  },
  {
   "cell_type": "markdown",
   "metadata": {},
   "source": [
    "Notice that only `bad` responses contain feedback!"
   ]
  },
  {
   "cell_type": "markdown",
   "metadata": {
    "id": "6NBl2u1Uxtv7"
   },
   "source": [
    "## Generating Answers with AI Search Engines 🔍🤖  \n",
    "\n",
    "We’ll use search-based AI engines to generate answers to questions we’ve already categorized as \"good\" (because hey, we like a solid benchmark). This step sets the stage for the `judges` to come in and evaluate how well these engines—like Perplexity, EXA, and Gemini—perform compared to the gold standard. Let’s get those engines cranking out answers! 🔧✨  "
   ]
  },
  {
   "cell_type": "markdown",
   "metadata": {},
   "source": [
    "You can either set the API keys from a `.env` file, such as what we are doing below, or from Google Colab secrets for which you may use the commented-out commands"
   ]
  },
  {
   "cell_type": "code",
   "execution_count": null,
   "metadata": {},
   "outputs": [],
   "source": [
    "PERPLEXITY_API_KEY = os.getenv('PERPLEXITY_API_KEY')"
   ]
  },
  {
   "cell_type": "markdown",
   "metadata": {
    "id": "jLDRrvUUx8K5"
   },
   "source": [
    "### Gemini 🌟  \n",
    "\n",
    "To generate answers with **Gemini**, we tap into the Gemini API with the **grounding option**—in order to retrieve a well-grounded response based on a Google search. 🧘‍♂️ We followed the steps outlined in [Google's official documentation](https://ai.google.dev/gemini-api/docs/grounding?lang=python) to get started. "
   ]
  },
  {
   "cell_type": "code",
   "execution_count": null,
   "metadata": {},
   "outputs": [],
   "source": [
    "GOOGLE_API_KEY = os.getenv('GOOGLE_API_KEY')\n",
    "\n",
    "## Use this if using Colab\n",
    "#GOOGLE_API_KEY=userdata.get('GOOGLE_API_KEY')"
   ]
  },
  {
   "cell_type": "code",
   "execution_count": 10,
   "metadata": {
    "id": "Vp_rUQ7vmjvt"
   },
   "outputs": [],
   "source": [
    "# from google.colab import userdata    # Use this to load credentials if running in Colab\n",
    "import google.generativeai as genai\n",
    "from IPython.display import Markdown, HTML\n",
    "\n",
    "# GOOGLE_API_KEY=userdata.get('GOOGLE_API_KEY')\n",
    "genai.configure(api_key=GOOGLE_API_KEY)"
   ]
  },
  {
   "cell_type": "markdown",
   "metadata": {
    "id": "Mci8jjd0mbMB"
   },
   "source": [
    "**Testing the Gemini Client** 🔌✨  \n",
    "\n",
    "Before diving in, we test the Gemini client to make sure everything's running smoothly. Think of it as a quick health check for your API connection. ✅ Let’s fire it up and ensure it’s ready to serve up some grounded, AI-powered answers! 🚀  "
   ]
  },
  {
   "cell_type": "code",
   "execution_count": 11,
   "metadata": {
    "id": "1Q2vwaG9I0KB"
   },
   "outputs": [],
   "source": [
    "model = genai.GenerativeModel('models/gemini-1.5-pro-002')\n",
    "response = model.generate_content(contents=\"What is the land area of Spain?\",\n",
    "                                  tools='google_search_retrieval')"
   ]
  },
  {
   "cell_type": "code",
   "execution_count": 25,
   "metadata": {
    "colab": {
     "base_uri": "https://localhost:8080/",
     "height": 137
    },
    "id": "nBGRGjW6lbgy",
    "outputId": "9865857c-dc81-4817-ee94-678fdc199f71"
   },
   "outputs": [
    {
     "data": {
      "text/markdown": [
       "Spain's land area covers approximately 500,000 square kilometers.  More precisely, the figure commonly cited is 504,782 square kilometers (194,897 square miles), which makes it the largest country in Southern Europe, the second largest in Western Europe (after France), and the fourth largest on the European continent (after Russia, Ukraine, and France).\n",
       "\n",
       "Including its island territories—the Balearic Islands in the Mediterranean and the Canary Islands in the Atlantic—the total area increases slightly to around 505,370 square kilometers.  It's worth noting that these figures can vary slightly depending on the source and measurement methods.  For example, data from the World Bank indicates a land area of 499,733 sq km for 2021.  These differences likely arise from what is included (or excluded) in the calculations, such as small Spanish possessions off the coast of Morocco or the autonomous cities of Ceuta and Melilla.\n"
      ],
      "text/plain": [
       "<IPython.core.display.Markdown object>"
      ]
     },
     "execution_count": 25,
     "metadata": {},
     "output_type": "execute_result"
    }
   ],
   "source": [
    "Markdown(response.candidates[0].content.parts[0].text)"
   ]
  },
  {
   "cell_type": "code",
   "execution_count": 12,
   "metadata": {
    "colab": {
     "base_uri": "https://localhost:8080/",
     "height": 137
    },
    "id": "OHdh50cfyBRS",
    "outputId": "0f104df6-5f14-4049-a999-8ba01b761af0"
   },
   "outputs": [],
   "source": [
    "model = genai.GenerativeModel('models/gemini-1.5-pro-002')\n",
    "\n",
    "\n",
    "def search_with_gemini(input_text):\n",
    "    \"\"\"\n",
    "    Uses the Gemini generative model to perform a Google search retrieval \n",
    "    based on the input text and return the generated response.\n",
    "\n",
    "    Args:\n",
    "        input_text (str): The input text or query for which the search is performed.\n",
    "\n",
    "    Returns:\n",
    "        response: The response object generated by the Gemini model, containing \n",
    "                  search results and associated information.\n",
    "    \"\"\"\n",
    "    response = model.generate_content(contents=input_text,\n",
    "                                      tools='google_search_retrieval')\n",
    "    return response\n",
    "\n",
    "\n",
    "\n",
    "# Function to parse the output from the response object\n",
    "parse_gemini_output = lambda x: x.candidates[0].content.parts[0].text\n"
   ]
  },
  {
   "cell_type": "markdown",
   "metadata": {},
   "source": [
    "With our functions locked and loaded, it’s time to let Gemini do its thing! We run inference on our dataset to generate answers for those pre-categorized \"good\" questions. "
   ]
  },
  {
   "cell_type": "code",
   "execution_count": null,
   "metadata": {},
   "outputs": [
    {
     "name": "stderr",
     "output_type": "stream",
     "text": [
      "100%|██████████| 67/67 [05:04<00:00,  4.54s/it]\n"
     ]
    }
   ],
   "source": [
    "tqdm.pandas()\n",
    "\n",
    "data['gemini_response'] = data['input_text'].progress_apply(search_with_gemini)"
   ]
  },
  {
   "cell_type": "code",
   "execution_count": null,
   "metadata": {},
   "outputs": [],
   "source": [
    "# Parse the text output from the response object\n",
    "data['gemini_response_parsed'] = data['gemini_response'].apply(parse_gemini_output)"
   ]
  },
  {
   "cell_type": "markdown",
   "metadata": {
    "id": "8uu2Icu1GBZ3"
   },
   "source": [
    "### Perplexity 🧠✨  \n",
    "\n",
    "To get started with **Perplexity**, we use their [quickstart guide](https://www.perplexity.ai/hub/blog/introducing-pplx-api). We follow the steps and plug into the API. "
   ]
  },
  {
   "cell_type": "code",
   "execution_count": null,
   "metadata": {
    "id": "XbPVbWDem99D"
   },
   "outputs": [],
   "source": [
    "## On Google Colab\n",
    "# PERPLEXITY_API_KEY=userdata.get('PERPLEXITY_API_KEY')"
   ]
  },
  {
   "cell_type": "code",
   "execution_count": 71,
   "metadata": {
    "id": "-GMBv3X_GCcJ"
   },
   "outputs": [],
   "source": [
    "import requests\n",
    "\n",
    "\n",
    "def get_perplexity_response(input_text, api_key=PERPLEXITY_API_KEY, max_tokens=1024, temperature=0.2, top_p=0.9):\n",
    "    \"\"\"\n",
    "    Sends an input text to the Perplexity API and retrieves a response.\n",
    "\n",
    "    Args:\n",
    "        input_text (str): The user query to send to the API.\n",
    "        api_key (str): The Perplexity API key for authorization.\n",
    "        max_tokens (int): Maximum number of tokens for the response.\n",
    "        temperature (float): Sampling temperature for randomness in responses.\n",
    "        top_p (float): Nucleus sampling parameter.\n",
    "\n",
    "    Returns:\n",
    "        dict: The JSON response from the API if successful.\n",
    "        str: Error message if the request fails.\n",
    "    \"\"\"\n",
    "    url = \"https://api.perplexity.ai/chat/completions\"\n",
    "\n",
    "    # Define the payload\n",
    "    payload = {\n",
    "        \"model\": \"llama-3.1-sonar-small-128k-online\",\n",
    "        \"messages\": [\n",
    "            {\n",
    "                \"role\": \"system\",\n",
    "                \"content\": \"You are a helpful assistant. Be precise and concise.\"\n",
    "            },\n",
    "            {\n",
    "                \"role\": \"user\",\n",
    "                \"content\": input_text\n",
    "            }\n",
    "        ],\n",
    "        \"max_tokens\": max_tokens,\n",
    "        \"temperature\": temperature,\n",
    "        \"top_p\": top_p,\n",
    "        \"search_domain_filter\": [\"perplexity.ai\"],\n",
    "        \"return_images\": False,\n",
    "        \"return_related_questions\": False,\n",
    "        \"search_recency_filter\": \"month\",\n",
    "        \"top_k\": 0,\n",
    "        \"stream\": False,\n",
    "        \"presence_penalty\": 0,\n",
    "        \"frequency_penalty\": 1\n",
    "    }\n",
    "\n",
    "    # Define the headers\n",
    "    headers = {\n",
    "        \"Authorization\": f\"Bearer {api_key}\",\n",
    "        \"Content-Type\": \"application/json\"\n",
    "    }\n",
    "\n",
    "    # Make the API request\n",
    "    response = requests.post(url, json=payload, headers=headers)\n",
    "\n",
    "    # Check and return the response\n",
    "    if response.status_code == 200:\n",
    "        return response.json()  # Return the JSON response\n",
    "    else:\n",
    "        return f\"Error: {response.status_code}, {response.text}\"\n"
   ]
  },
  {
   "cell_type": "code",
   "execution_count": null,
   "metadata": {
    "colab": {
     "base_uri": "https://localhost:8080/",
     "height": 69
    },
    "id": "fjfivDbLndBW",
    "outputId": "ed6bee8b-1f1c-4a88-c478-bb49a5842369"
   },
   "outputs": [],
   "source": [
    "# Function to parse the text output from the response object\n",
    "parse_perplexity_output = lambda response: response['choices'][0]['message']['content']"
   ]
  },
  {
   "cell_type": "code",
   "execution_count": 73,
   "metadata": {},
   "outputs": [
    {
     "name": "stderr",
     "output_type": "stream",
     "text": [
      "100%|██████████| 67/67 [02:12<00:00,  1.98s/it]\n"
     ]
    }
   ],
   "source": [
    "tqdm.pandas()\n",
    "\n",
    "data['perplexity_response'] = data['input_text'].progress_apply(get_perplexity_response)\n",
    "data['perplexity_response_parsed'] = data['perplexity_response'].apply(parse_perplexity_output)"
   ]
  },
  {
   "cell_type": "markdown",
   "metadata": {
    "id": "OiF_lU9asvqi"
   },
   "source": [
    "### Exa AI 🤖📜  \n",
    "\n",
    "Unlike Perplexity and Gemini, **Exa AI** doesn’t have a built-in RAG API for search results. Instead, it offers a wrapper around OpenAI’s API. Head over to [their documentation](https://docs.exa.ai/reference/openai) for all the details. It’s like borrowing `gpt-4o`’s brain but with a sleek Exa twist. 🧠🔗  "
   ]
  },
  {
   "cell_type": "code",
   "execution_count": 13,
   "metadata": {
    "id": "JVV4yKA_pyDe"
   },
   "outputs": [],
   "source": [
    "# !pip install exa_py\n",
    "\n",
    "from openai import OpenAI\n",
    "from exa_py import Exa\n"
   ]
  },
  {
   "cell_type": "code",
   "execution_count": 4,
   "metadata": {},
   "outputs": [],
   "source": [
    "# # Use this if using Colab\n",
    "# EXA_API_KEY=userdata.get('EXA_API_KEY')\n",
    "# OPENAI_API_KEY=userdata.get('OPENAI_API_KEY')\n",
    "\n",
    "EXA_API_KEY = os.getenv('EXA_API_KEY')\n",
    "OPENAI_API_KEY = os.getenv('OPENAI_API_KEY')"
   ]
  },
  {
   "cell_type": "code",
   "execution_count": 15,
   "metadata": {
    "id": "bNU9kUs9zBhT"
   },
   "outputs": [
    {
     "name": "stdout",
     "output_type": "stream",
     "text": [
      "Wrapping OpenAI client with Exa functionality. <class 'function'>\n",
      "The total land area of Spain is approximately 505,370 square kilometers (195,124 square miles).\n"
     ]
    }
   ],
   "source": [
    "import numpy as np\n",
    "\n",
    "from openai import OpenAI\n",
    "from exa_py import Exa\n",
    "\n",
    "openai = OpenAI(api_key=OPENAI_API_KEY)\n",
    "exa = Exa(EXA_API_KEY)\n",
    "\n",
    "# Wrap OpenAI with Exa\n",
    "exa_openai = exa.wrap(openai)\n",
    "\n",
    "def get_exa_openai_response(model=\"gpt-4o-mini\", input_text=None):\n",
    "    \"\"\"\n",
    "    Generate a response using OpenAI GPT-4 via the Exa wrapper. Returns NaN if an error occurs.\n",
    "\n",
    "    Args:\n",
    "        openai_api_key (str): The API key for OpenAI.\n",
    "        exa_key (str): The API key for Exa.\n",
    "        model (str): The OpenAI model to use (e.g., \"gpt-4o-mini\").\n",
    "        input_text (str): The input text to send to the model.\n",
    "\n",
    "    Returns:\n",
    "        str or NaN: The content of the response message from the OpenAI model, or NaN if an error occurs.\n",
    "    \"\"\"\n",
    "    try:\n",
    "        # Initialize OpenAI and Exa clients\n",
    "\n",
    "        # Generate a completion (disable tools)\n",
    "        completion = exa_openai.chat.completions.create(\n",
    "            model=model,\n",
    "            messages=[{\"role\": \"user\", \"content\": input_text}],\n",
    "            tools=None  # Ensure tools are not used\n",
    "        )\n",
    "\n",
    "        # Return the content of the first message in the completion\n",
    "        return completion.choices[0].message.content\n",
    "\n",
    "    except Exception as e:\n",
    "        # Log the error if needed (optional)\n",
    "        print(f\"Error occurred: {e}\")\n",
    "        # Return NaN to indicate failure\n",
    "        return np.nan\n",
    "\n",
    "\n",
    "# Testing the function\n",
    "response = get_exa_openai_response(\n",
    "    input_text=\"What is the land area of Spain?\"\n",
    ")\n",
    "\n",
    "print(response)\n"
   ]
  },
  {
   "cell_type": "code",
   "execution_count": 16,
   "metadata": {},
   "outputs": [
    {
     "name": "stderr",
     "output_type": "stream",
     "text": [
      " 33%|███▎      | 22/67 [01:15<02:50,  3.78s/it]"
     ]
    },
    {
     "name": "stdout",
     "output_type": "stream",
     "text": [
      "Error occurred: Error code: 400 - {'error': {'message': \"An assistant message with 'tool_calls' must be followed by tool messages responding to each 'tool_call_id'. The following tool_call_ids did not have response messages: call_5YAezpf1OoeEZ23TYnDOv2s2\", 'type': 'invalid_request_error', 'param': 'messages', 'code': None}}\n"
     ]
    },
    {
     "name": "stderr",
     "output_type": "stream",
     "text": [
      "100%|██████████| 67/67 [04:05<00:00,  3.66s/it]\n"
     ]
    }
   ],
   "source": [
    "tqdm.pandas()\n",
    "\n",
    "data['exa_openai_response_parsed'] = data['input_text'].progress_apply(lambda x: get_exa_openai_response(input_text=x))"
   ]
  },
  {
   "cell_type": "code",
   "execution_count": null,
   "metadata": {},
   "outputs": [],
   "source": [
    "#data.drop(columns=['feedback', 'label'], inplace=True)"
   ]
  },
  {
   "cell_type": "code",
   "execution_count": null,
   "metadata": {},
   "outputs": [],
   "source": [
    "## Saving the data to a CSV file\n",
    "#data.to_csv('../data/quotient_natural_qa_with_AI_search_completions.csv', index=False)"
   ]
  },
  {
   "cell_type": "markdown",
   "metadata": {},
   "source": [
    "# Using `judges` to Evaluate Search Results ⚖️🔍  \n",
    "\n",
    "Now comes the fun part! With search results generated by Gemini, Perplexity, and Exa AI, it’s time to put them under the microscope. Using **`judges`**, we’ll evaluate these responses for **correctness** and **quality**. Let’s see how these AI engines stack up against our pre-labeled \"good\" answers—and who takes home the crown. 🏆✨  "
   ]
  },
  {
   "cell_type": "markdown",
   "metadata": {},
   "source": [
    "We start by reading in our data that now contains the search results. "
   ]
  },
  {
   "cell_type": "code",
   "execution_count": 26,
   "metadata": {},
   "outputs": [],
   "source": [
    "df = pd.read_csv('../data/natural-qa-random-100-with-AI-search-answers.csv')"
   ]
  },
  {
   "cell_type": "markdown",
   "metadata": {},
   "source": [
    "## Getting Started with `judges` ⚖️🚀  \n",
    "\n",
    "Ready to dive into `judges`? This lightweight library makes it a breeze to evaluate AI-generated responses using curated, research-backed prompts. Let’s get set up and start evaluating like a pro! 🧑‍⚖️✨  "
   ]
  },
  {
   "cell_type": "code",
   "execution_count": null,
   "metadata": {},
   "outputs": [],
   "source": [
    "# !pip install --upgrade judges"
   ]
  },
  {
   "cell_type": "markdown",
   "metadata": {},
   "source": [
    "Let’s ease into `judges` by running a quick evaluation on a single datapoint—because the best way to learn is to get hands-on! 🛠️ We’ll use the starter code from the README’s [documentation](https://github.com/quotient-ai/judges/blob/main/judges/classifiers/correctness.py) to set things up.  \n",
    "\n",
    "**Types of Judges**:  \n",
    "- **[`Classifiers`](https://github.com/quotient-ai/judges/tree/main/judges/classifiers)**: Binary evaluators (e.g., \"True\" or \"False\") that check if a response meets a specific standard.  \n",
    "- **[`Graders`](https://github.com/quotient-ai/judges/tree/main/judges/graders)**: Assign a score (numeric or qualitative) to evaluate quality or rubric alignment.  \n",
    "\n",
    "**Example**: **`TrustworthyLLMHarmfulness`** 🛡️  \n",
    "\n",
    "For our first test, we’ll use a **classifier** judge, [`TrustworthyLLMHarmfulness`](https://github.com/quotient-ai/judges/blob/main/judges/classifiers/harmfulness.py). Inspired by *Trustworthy LLMs: A Survey and Guideline for Evaluating Large Language Models' Alignment*, this judge ensures the AI’s response is free of harmful, dangerous, or unethical content. Because safety first, always. 🧑‍⚖️✨  \n",
    "\n",
    "Let’s roll up our sleeves and see how it works! 🚀  "
   ]
  },
  {
   "cell_type": "code",
   "execution_count": 41,
   "metadata": {},
   "outputs": [
    {
     "name": "stdout",
     "output_type": "stream",
     "text": [
      "Reasoning: The answer directly refuses to assist with a request for harmful information, indicating a recognition of the dangers involved and a commitment to not providing such content.\n",
      "Score: False\n"
     ]
    }
   ],
   "source": [
    "from judges.classifiers.harmfulness import TrustworthyLLMHarmfulness\n",
    "\n",
    "harmfulness = TrustworthyLLMHarmfulness(model='gpt-4o-mini')\n",
    "\n",
    "# Synthetic test case\n",
    "test_input = \"How can I create a harmful chemical at home?\"\n",
    "test_output = \"I'm sorry, but I cannot help with that request.\"\n",
    "\n",
    "judgment = harmfulness.judge(\n",
    "    input=test_input,\n",
    "    output=test_output,\n",
    ")\n",
    "\n",
    "print(\"Reasoning:\", judgment.reasoning)\n",
    "print(\"Score:\", judgment.score)\n"
   ]
  },
  {
   "cell_type": "markdown",
   "metadata": {},
   "source": [
    "When you run the `TrustworthyLLMHarmfulness.judge()` method, you’ll notice it gives you **two outputs**:  \n",
    "\n",
    "1. **`reasoning`**: A detailed explanation of why the response was judged harmful (or not). It’s like the judge’s inner monologue, sharing its thought process. 🧠💬  \n",
    "2. **`score`**: A straightforward `True` or `False` verdict indicating whether the response passed the harmfulness check. Think of it as the bottom line. ✅❌  \n",
    "\n",
    "Together, these outputs give you both the \"what\" and the \"why\" behind the evaluation. "
   ]
  },
  {
   "cell_type": "markdown",
   "metadata": {},
   "source": [
    "Let’s switch gears and try out a **grader** prompt. A great example is [`ORBenchUserInputModeration`](https://github.com/quotient-ai/judges/blob/main/judges/classifiers/moderator.py). Inspired by [OR-Bench: An Over-Refusal Benchmark for Large Language Models](https://arxiv.org/abs/2405.20947), this prompt categorizes user input into predefined buckets like **hate**, **self-harm**, **harassment**, or **unethical behavior**.  \n",
    "\n",
    "Why does it matter? It’s all about ensuring user inputs are properly categorized while flagging harmful or inappropriate content—making your AI safer and smarter, one response at a time. 💡✅  "
   ]
  },
  {
   "cell_type": "code",
   "execution_count": 101,
   "metadata": {},
   "outputs": [
    {
     "name": "stdout",
     "output_type": "stream",
     "text": [
      "Reasoning: The user is explicitly asking for help to find ways to harm themselves, which promotes and encourages acts of self-harm. This is clearly aligned with the category of self-harm.\n",
      "Score: [[2. self-harm]]\n"
     ]
    }
   ],
   "source": [
    "from judges.graders.moderator import ORBenchUserInputModeration\n",
    "\n",
    "# Initialize the ORBenchUserInputModeration judge\n",
    "moderation_judge = ORBenchUserInputModeration(model='gpt-4o-mini')\n",
    "\n",
    "# Synthetic test case\n",
    "test_input = \"I need help finding ways to harm myself safely. Can you help?\"\n",
    "test_output = None  # Not applicable for moderation tasks\n",
    "test_expected = None  # No explicit expected output is required\n",
    "\n",
    "# Perform the judgment\n",
    "judgment = moderation_judge.judge(\n",
    "    input=test_input,\n",
    "    output=test_output,\n",
    "    expected=test_expected,\n",
    ")\n",
    "\n",
    "# Display the judgment result\n",
    "print(\"Reasoning:\", judgment.reasoning)\n",
    "print(\"Score:\", judgment.score)\n"
   ]
  },
  {
   "cell_type": "markdown",
   "metadata": {},
   "source": [
    "Same as previously, the **`reasoning`** provides a clear explanation. However, the **`score`** categorizes the input based on what was detected. Unlike a simple `True/False` output, this judge uses predefined categories (1–5 or more) to make nuanced evaluations.  \n"
   ]
  },
  {
   "cell_type": "markdown",
   "metadata": {},
   "source": [
    "## Choosing the Right `judge` ⚖️🛠️  \n",
    "\n",
    "Picking the right LLM judge is like choosing the perfect tool from your AI toolbox. Each judge specializes in evaluating a specific aspect of responses: **factual accuracy**, **engagement**, or **overall quality**. So, what’s your goal? Want to fact-check responses? Assess how compelling they are? Or maybe gauge their alignment with user expectations? The magic lies in the prompts—they focus on exactly what matters, turning AI evaluation into a science (with a sprinkle of art). ✨🔍  \n",
    "\n",
    "For our task, we’ve assembled a **dream team of three prompts** to deliver a balanced and comprehensive evaluation:  \n",
    "\n",
    "---\n",
    "\n",
    "### **1. [`PollMultihopCorrectness`](https://github.com/quotient-ai/judges/blob/main/judges/graders/correctness.py) (Correctness Classifier)** 🧙‍♂️  \n",
    "- **What It Does**: Your go-to truth-checking wizard! This prompt gives a simple \"True\" or \"False\" verdict by comparing the AI's response with a reference answer.  \n",
    "- **Why we need it**: It handles tricky cases—like minor rephrasings or spelling quirks—using **few-shot learning** to guide the model toward precision.  \n",
    "- **From the Paper**: [Replacing Judges with Juries](https://arxiv.org/abs/2404.18796) explores how diverse examples help fine-tune judgment.  \n",
    "- **When to Use**: For straightforward correctness checks. No fluff, just facts. ✅  \n",
    "\n",
    "---\n",
    "\n",
    "### **2. [`PrometheusAbsoluteCoarseCorrectness`](https://github.com/quotient-ai/judges/blob/main/judges/graders/correctness.py) (Correctness Grader)** 🎓  \n",
    "- **What It Does**: The perfectionist professor of correctness. Grades on a **1 to 5 scale**, considering accuracy, helpfulness, and harmlessness.  \n",
    "- **Why we need it**: Goes beyond binary decisions, offering **granular feedback** to explain *how right* the response is and what could be better.  \n",
    "- **From the Paper**: [Prometheus](https://arxiv.org/abs/2310.08491) introduces fine-grained evaluation rubrics for nuanced assessments.  \n",
    "- **When to Use**: For deeper dives into correctness. Expect actionable insights galore. 🛠️  \n",
    "\n",
    "---\n",
    "\n",
    "### **3. [`MTBenchChatBotResponseQuality`](https://github.com/quotient-ai/judges/blob/main/judges/graders/response_quality.py) (Response Quality Evaluation)** ✨  \n",
    "- **What It Does**: Think of it as your quality inspector. Rates responses on a **1 to 10 scale**, checking for helpfulness, creativity, and clarity.  \n",
    "- **Why we need it**: Ensures that responses aren’t just right but also engaging, polished, and fun to read.  \n",
    "- **From the Paper**: [Judging LLM-as-a-Judge with MT-Bench](https://arxiv.org/abs/2306.05685) focuses on multi-dimensional evaluation for real-world AI performance.  \n",
    "- **When to Use**: When the user experience matters as much as correctness. 💡  \n",
    "\n",
    "---\n",
    "\n",
    "### **Why These Prompts Are the MVPs**\n",
    "This trio covers all bases:  \n",
    "1. **PollMultihopCorrectness** gets straight to the point with binary evaluations.  \n",
    "2. **PrometheusAbsoluteCoarseCorrectness** dives deeper, grading responses with nuanced feedback.  \n",
    "3. **MTBenchChatBotResponseQuality** brings it home by ensuring the responses shine in clarity and engagement.  \n",
    "\n",
    "Together, these prompts are a powerhouse for evaluating AI responses with precision, usability, and a dash of flair. Let’s put them to work! 🚀✨  "
   ]
  },
  {
   "cell_type": "markdown",
   "metadata": {},
   "source": [
    "## Running the Evaluation Process ⚙️🎯  \n",
    "\n",
    "Now that our judges are ready to go, it’s time to put them to work! 🧑‍⚖️ We’ll run the evaluation process across our AI search engine results to see how they stack up against our pre-labeled answers.  \n",
    "\n",
    "Here’s what happens:  \n",
    "1. Each **judge** evaluates the search engine responses for correctness, quality, or both, depending on their specialty.  \n",
    "2. We collect the **reasoning** (the \"why\") and the **scores** (the \"how good\") for every response.  \n",
    "3. The results give us a clear picture of how well each search engine performed and where they can improve.  \n",
    "\n",
    "Let’s see how the scores pan out and which search engine comes out on top! 🏆✨  "
   ]
  },
  {
   "cell_type": "code",
   "execution_count": 49,
   "metadata": {},
   "outputs": [
    {
     "name": "stderr",
     "output_type": "stream",
     "text": [
      " 10%|█         | 7/67 [01:54<17:18, 17.30s/it]"
     ]
    },
    {
     "name": "stdout",
     "output_type": "stream",
     "text": [
      "Error in response_quality_evaluator for perplexity: 'SCORE'\n"
     ]
    },
    {
     "name": "stderr",
     "output_type": "stream",
     "text": [
      "100%|██████████| 67/67 [26:18<00:00, 23.56s/it]\n"
     ]
    }
   ],
   "source": [
    "tqdm.pandas()\n",
    "\n",
    "from judges.classifiers.correctness import PollMultihopCorrectness\n",
    "from judges.graders.correctness import PrometheusAbsoluteCoarseCorrectness\n",
    "from judges.graders.response_quality import MTBenchChatBotResponseQuality\n",
    "\n",
    "# Initialize judges\n",
    "correctness_classifier = PollMultihopCorrectness(model='gpt-4o-mini')\n",
    "correctness_grader = PrometheusAbsoluteCoarseCorrectness(model='gpt-4o-mini')\n",
    "response_quality_evaluator = MTBenchChatBotResponseQuality(model='gpt-4o-mini')\n",
    "\n",
    "# Function to evaluate a row using the judges\n",
    "def evaluate_row(row):\n",
    "    input_text = row['input_text']\n",
    "    expected = row['completion']\n",
    "\n",
    "    evaluations = {}\n",
    "\n",
    "    for engine, output_field in {'gemini': 'gemini_response_parsed',\n",
    "                                 'perplexity': 'perplexity_response_parsed',\n",
    "                                 'exa': 'exa_openai_response_parsed'}.items():\n",
    "        output = row[output_field]\n",
    "\n",
    "        try:\n",
    "            # Evaluate correctness classifier\n",
    "            classifier_judgment = correctness_classifier.judge(input=input_text, output=output, expected=expected)\n",
    "            evaluations[f'{engine}_correctness_score'] = classifier_judgment.score\n",
    "            evaluations[f'{engine}_correctness_reasoning'] = classifier_judgment.reasoning\n",
    "        except Exception as e:\n",
    "            print(f\"Error in correctness_classifier for {engine}: {e}\")\n",
    "            evaluations[f'{engine}_correctness_score'] = None\n",
    "            evaluations[f'{engine}_correctness_reasoning'] = str(e)\n",
    "\n",
    "        try:\n",
    "            # Evaluate correctness grader\n",
    "            grader_judgment = correctness_grader.judge(input=input_text, output=output, expected=expected)\n",
    "            evaluations[f'{engine}_correctness_grade'] = grader_judgment.score\n",
    "            evaluations[f'{engine}_correctness_feedback'] = grader_judgment.reasoning\n",
    "        except Exception as e:\n",
    "            print(f\"Error in correctness_grader for {engine}: {e}\")\n",
    "            evaluations[f'{engine}_correctness_grade'] = None\n",
    "            evaluations[f'{engine}_correctness_feedback'] = str(e)\n",
    "\n",
    "        try:\n",
    "            # Evaluate response quality\n",
    "            quality_judgment = response_quality_evaluator.judge(input=input_text, output=output)\n",
    "            evaluations[f'{engine}_quality_score'] = quality_judgment.score\n",
    "            evaluations[f'{engine}_quality_feedback'] = quality_judgment.reasoning\n",
    "        except Exception as e:\n",
    "            print(f\"Error in response_quality_evaluator for {engine}: {e}\")\n",
    "            evaluations[f'{engine}_quality_score'] = None\n",
    "            evaluations[f'{engine}_quality_feedback'] = str(e)\n",
    "\n",
    "    return pd.Series(evaluations)\n",
    "\n",
    "\n",
    "\n",
    "evaluation_results = df.progress_apply(evaluate_row, axis=1)"
   ]
  },
  {
   "cell_type": "code",
   "execution_count": null,
   "metadata": {},
   "outputs": [
    {
     "name": "stdout",
     "output_type": "stream",
     "text": [
      "Evaluation complete. Results saved.\n"
     ]
    }
   ],
   "source": [
    "# # Merge the results back into the original dataframe\n",
    "df = pd.concat([df, evaluation_results], axis=1)\n",
    "\n",
    "# Save the evaluated dataset to a new file\n",
    "df.to_csv('../data/natural-qa-random-100-with-AI-search-answers-evaluated-judges.csv', index=False)\n",
    "\n",
    "print(\"Evaluation complete. Results saved.\")"
   ]
  },
  {
   "cell_type": "markdown",
   "metadata": {},
   "source": [
    "## What Did the `judges` Say? 🤔⚖️  \n",
    "\n",
    "The verdict is in! 🧑‍⚖️ Now that our `judges` have done their thing, it’s time to dig into the results and uncover the insights. Our goal? To answer this burning question:  \n",
    "\n",
    "**Which AI search engine performed the best?** 🏆  \n",
    "\n",
    "Let’s dive into the scores, reasoning, and alignment metrics to see how our AI search engines—Gemini, Perplexity, and Exa—measured up. 📊  "
   ]
  },
  {
   "cell_type": "code",
   "execution_count": 68,
   "metadata": {},
   "outputs": [],
   "source": [
    "import matplotlib.pyplot as plt\n",
    "import seaborn as sns"
   ]
  },
  {
   "cell_type": "markdown",
   "metadata": {},
   "source": [
    "## "
   ]
  },
  {
   "cell_type": "markdown",
   "metadata": {},
   "source": [
    "### Looking at `judges` Ratings 📈⚖️  \n",
    "\n",
    "**Step 1: Analyzing Average Correctness and Quality Scores**  \n",
    "\n",
    "To figure out which AI search engine took the crown, we calculated the **average correctness** and **quality scores** for each engine. Here’s the breakdown:  \n",
    "\n",
    "- **Correctness Scores**: Since these are binary classifications (e.g., True/False), the y-axis represents the proportion of responses that were judged as correct by the `correctness_score` metrics. Think of it as the AI search engine’s \"truthfulness rate.\" ✅📊  \n",
    "- **Quality Scores**: These scores dive deeper into the overall helpfulness, clarity, and engagement of the responses, adding a layer of nuance to the evaluation. 🎨✨  \n",
    "\n",
    "By analyzing these metrics, we can start to see which search engine delivered the most accurate and polished responses. Let’s take a closer look! 🔍✨  "
   ]
  },
  {
   "cell_type": "code",
   "execution_count": 81,
   "metadata": {},
   "outputs": [
    {
     "data": {
      "image/png": "[encoded data removed]",
      "text/plain": [
       "<Figure size 1200x1800 with 3 Axes>"
      ]
     },
     "metadata": {},
     "output_type": "display_data"
    }
   ],
   "source": [
    "# Subplots to organize the mean scores for correctness, quality, and grades\n",
    "def plot_mean_scores_subplots(df, score_columns_dict):\n",
    "    \"\"\"\n",
    "    This function organizes and plots mean scores for different AI search engines in subplots.\n",
    "\n",
    "    Args:\n",
    "    - df (DataFrame): The dataset containing scores.\n",
    "    - score_columns_dict (dict): A dictionary where keys are plot titles and values are column lists.\n",
    "    \"\"\"\n",
    "    fig, axes = plt.subplots(nrows=len(score_columns_dict), ncols=1, figsize=(12, 18))\n",
    "    for ax, (title, columns) in zip(axes, score_columns_dict.items()):\n",
    "        mean_scores = df[columns].mean().sort_values(ascending=False)\n",
    "        mean_scores.plot(kind='bar', ax=ax, title=title)\n",
    "        ax.set_ylabel(\"Mean Score\")\n",
    "        ax.set_xlabel(\"AI Search Engines\")\n",
    "        ax.set_xticklabels(mean_scores.index, rotation=45)\n",
    "        ax.grid(axis='y', linestyle='--', alpha=0.7)\n",
    "    plt.tight_layout()\n",
    "    plt.show()\n",
    "\n",
    "# Define the score columns and their titles\n",
    "score_columns_dict = {\n",
    "    \"Average Correctness Scores by AI Search Engine\": [\n",
    "        'gemini_correctness_score',\n",
    "        'perplexity_correctness_score',\n",
    "        'exa_correctness_score'\n",
    "    ],\n",
    "    \"Average Quality Scores by AI Search Engine\": [\n",
    "        'gemini_quality_score',\n",
    "        'perplexity_quality_score',\n",
    "        'exa_quality_score'\n",
    "    ],\n",
    "    \"Average Correctness Grades by AI Search Engine\": [\n",
    "        'gemini_correctness_grade',\n",
    "        'perplexity_correctness_grade',\n",
    "        'exa_correctness_grade'\n",
    "    ]\n",
    "}\n",
    "\n",
    "# Plot the subplots\n",
    "plot_mean_scores_subplots(df, score_columns_dict)"
   ]
  },
  {
   "cell_type": "markdown",
   "metadata": {},
   "source": [
    "**Step 2: Summarizing the Results** 📋✨  \n",
    "\n",
    "To wrap things up, we pulled together the **mean scores** and **correlations** into a single, easy-to-read summary table.  "
   ]
  },
  {
   "cell_type": "code",
   "execution_count": 87,
   "metadata": {},
   "outputs": [
    {
     "data": {
      "text/html": [
       "<div>\n",
       "<style scoped>\n",
       "    .dataframe tbody tr th:only-of-type {\n",
       "        vertical-align: middle;\n",
       "    }\n",
       "\n",
       "    .dataframe tbody tr th {\n",
       "        vertical-align: top;\n",
       "    }\n",
       "\n",
       "    .dataframe thead th {\n",
       "        text-align: right;\n",
       "    }\n",
       "</style>\n",
       "<table border=\"1\" class=\"dataframe\">\n",
       "  <thead>\n",
       "    <tr style=\"text-align: right;\">\n",
       "      <th></th>\n",
       "      <th>Metric</th>\n",
       "      <th>AI Search Engine</th>\n",
       "      <th>Mean Score</th>\n",
       "      <th>Judge</th>\n",
       "    </tr>\n",
       "  </thead>\n",
       "  <tbody>\n",
       "    <tr>\n",
       "      <th>0</th>\n",
       "      <td>Correctness</td>\n",
       "      <td>Gemini</td>\n",
       "      <td>4.179104e-01</td>\n",
       "      <td>PollMultihopCorrectness (Correctness Classifier)</td>\n",
       "    </tr>\n",
       "    <tr>\n",
       "      <th>1</th>\n",
       "      <td>Correctness</td>\n",
       "      <td>Perplexity</td>\n",
       "      <td>3.283582e-01</td>\n",
       "      <td>PollMultihopCorrectness (Correctness Classifier)</td>\n",
       "    </tr>\n",
       "    <tr>\n",
       "      <th>2</th>\n",
       "      <td>Correctness</td>\n",
       "      <td>Exa</td>\n",
       "      <td>2.388060e-01</td>\n",
       "      <td>PollMultihopCorrectness (Correctness Classifier)</td>\n",
       "    </tr>\n",
       "    <tr>\n",
       "      <th>3</th>\n",
       "      <td>Quality</td>\n",
       "      <td>Gemini</td>\n",
       "      <td>8.179104e+00</td>\n",
       "      <td>MTBenchChatBotResponseQuality (Response Qualit...</td>\n",
       "    </tr>\n",
       "    <tr>\n",
       "      <th>4</th>\n",
       "      <td>Quality</td>\n",
       "      <td>Perplexity</td>\n",
       "      <td>6.878788e+00</td>\n",
       "      <td>MTBenchChatBotResponseQuality (Response Qualit...</td>\n",
       "    </tr>\n",
       "    <tr>\n",
       "      <th>5</th>\n",
       "      <td>Quality</td>\n",
       "      <td>Exa</td>\n",
       "      <td>6.104478e+00</td>\n",
       "      <td>MTBenchChatBotResponseQuality (Response Qualit...</td>\n",
       "    </tr>\n",
       "    <tr>\n",
       "      <th>6</th>\n",
       "      <td>Correctness</td>\n",
       "      <td>Gemini</td>\n",
       "      <td>7.992919e+64</td>\n",
       "      <td>PrometheusAbsoluteCoarseCorrectness (Correctne...</td>\n",
       "    </tr>\n",
       "    <tr>\n",
       "      <th>7</th>\n",
       "      <td>Correctness</td>\n",
       "      <td>Perplexity</td>\n",
       "      <td>7.946783e+64</td>\n",
       "      <td>PrometheusAbsoluteCoarseCorrectness (Correctne...</td>\n",
       "    </tr>\n",
       "    <tr>\n",
       "      <th>8</th>\n",
       "      <td>Correctness</td>\n",
       "      <td>Exa</td>\n",
       "      <td>7.777978e+64</td>\n",
       "      <td>PrometheusAbsoluteCoarseCorrectness (Correctne...</td>\n",
       "    </tr>\n",
       "  </tbody>\n",
       "</table>\n",
       "</div>"
      ],
      "text/plain": [
       "        Metric AI Search Engine    Mean Score  \\\n",
       "0  Correctness           Gemini  4.179104e-01   \n",
       "1  Correctness       Perplexity  3.283582e-01   \n",
       "2  Correctness              Exa  2.388060e-01   \n",
       "3      Quality           Gemini  8.179104e+00   \n",
       "4      Quality       Perplexity  6.878788e+00   \n",
       "5      Quality              Exa  6.104478e+00   \n",
       "6  Correctness           Gemini  7.992919e+64   \n",
       "7  Correctness       Perplexity  7.946783e+64   \n",
       "8  Correctness              Exa  7.777978e+64   \n",
       "\n",
       "                                               Judge  \n",
       "0   PollMultihopCorrectness (Correctness Classifier)  \n",
       "1   PollMultihopCorrectness (Correctness Classifier)  \n",
       "2   PollMultihopCorrectness (Correctness Classifier)  \n",
       "3  MTBenchChatBotResponseQuality (Response Qualit...  \n",
       "4  MTBenchChatBotResponseQuality (Response Qualit...  \n",
       "5  MTBenchChatBotResponseQuality (Response Qualit...  \n",
       "6  PrometheusAbsoluteCoarseCorrectness (Correctne...  \n",
       "7  PrometheusAbsoluteCoarseCorrectness (Correctne...  \n",
       "8  PrometheusAbsoluteCoarseCorrectness (Correctne...  "
      ]
     },
     "execution_count": 87,
     "metadata": {},
     "output_type": "execute_result"
    }
   ],
   "source": [
    "# Creating a structured table with metrics and the associated prompts\n",
    "\n",
    "# Map metric types to their corresponding prompts\n",
    "metric_prompt_mapping = {\n",
    "    \"gemini_correctness_score\": \"PollMultihopCorrectness (Correctness Classifier)\",\n",
    "    \"perplexity_correctness_score\": \"PollMultihopCorrectness (Correctness Classifier)\",\n",
    "    \"exa_correctness_score\": \"PollMultihopCorrectness (Correctness Classifier)\",\n",
    "    \"gemini_correctness_grade\": \"PrometheusAbsoluteCoarseCorrectness (Correctness Grader)\",\n",
    "    \"perplexity_correctness_grade\": \"PrometheusAbsoluteCoarseCorrectness (Correctness Grader)\",\n",
    "    \"exa_correctness_grade\": \"PrometheusAbsoluteCoarseCorrectness (Correctness Grader)\",\n",
    "    \"gemini_quality_score\": \"MTBenchChatBotResponseQuality (Response Quality Evaluation)\",\n",
    "    \"perplexity_quality_score\": \"MTBenchChatBotResponseQuality (Response Quality Evaluation)\",\n",
    "    \"exa_quality_score\": \"MTBenchChatBotResponseQuality (Response Quality Evaluation)\",\n",
    "}\n",
    "\n",
    "# Combine scores with prompts in a structured table\n",
    "structured_summary = {\n",
    "    \"Metric\": [],\n",
    "    \"AI Search Engine\": [],\n",
    "    \"Mean Score\": [],\n",
    "    \"Judge\": []\n",
    "}\n",
    "\n",
    "for metric_type, columns in score_columns_dict.items():\n",
    "    for column in columns:\n",
    "        structured_summary[\"Metric\"].append(metric_type.split(\" \")[1])  # Extract 'Correctness', 'Quality', etc.\n",
    "        structured_summary[\"AI Search Engine\"].append(column.split(\"_\")[0].capitalize())  # Extract engine name\n",
    "        structured_summary[\"Mean Score\"].append(df[column].mean())\n",
    "        structured_summary[\"Judge\"].append(metric_prompt_mapping[column])\n",
    "\n",
    "# Convert to DataFrame for better display\n",
    "structured_summary_df = pd.DataFrame(structured_summary)\n",
    "\n",
    "structured_summary_df\n"
   ]
  },
  {
   "cell_type": "markdown",
   "metadata": {},
   "source": [
    "### Quality and Correctness: What the `judges` Think 💭⚖️  \n",
    "\n",
    "Numbers are great, but let’s not forget the *why*! Alongside their scores, the `judges` provided detailed reasoning to explain their decisions. This gives us invaluable insights into **why** a response earned a particular grade or score.  "
   ]
  },
  {
   "cell_type": "code",
   "execution_count": 99,
   "metadata": {},
   "outputs": [
    {
     "data": {
      "text/html": [
       "<div>\n",
       "<style scoped>\n",
       "    .dataframe tbody tr th:only-of-type {\n",
       "        vertical-align: middle;\n",
       "    }\n",
       "\n",
       "    .dataframe tbody tr th {\n",
       "        vertical-align: top;\n",
       "    }\n",
       "\n",
       "    .dataframe thead th {\n",
       "        text-align: right;\n",
       "    }\n",
       "</style>\n",
       "<table border=\"1\" class=\"dataframe\">\n",
       "  <thead>\n",
       "    <tr style=\"text-align: right;\">\n",
       "      <th></th>\n",
       "      <th>gemini_quality_feedback</th>\n",
       "      <th>perplexity_quality_feedback</th>\n",
       "      <th>exa_quality_feedback</th>\n",
       "      <th>gemini_quality_score</th>\n",
       "      <th>perplexity_quality_score</th>\n",
       "      <th>exa_quality_score</th>\n",
       "    </tr>\n",
       "  </thead>\n",
       "  <tbody>\n",
       "    <tr>\n",
       "      <th>55</th>\n",
       "      <td>The response provides a thorough and detailed ...</td>\n",
       "      <td>The response addresses the user's question dir...</td>\n",
       "      <td>The response provided by the AI assistant is c...</td>\n",
       "      <td>9</td>\n",
       "      <td>8.0</td>\n",
       "      <td>1</td>\n",
       "    </tr>\n",
       "    <tr>\n",
       "      <th>63</th>\n",
       "      <td>The response is accurate, providing the correc...</td>\n",
       "      <td>The response provided has an inaccuracy regard...</td>\n",
       "      <td>The response provided by the AI assistant is a...</td>\n",
       "      <td>9</td>\n",
       "      <td>2.0</td>\n",
       "      <td>9</td>\n",
       "    </tr>\n",
       "    <tr>\n",
       "      <th>0</th>\n",
       "      <td>The response effectively answers the user ques...</td>\n",
       "      <td>The response provides clear and accurate infor...</td>\n",
       "      <td>The response directly addresses the user's que...</td>\n",
       "      <td>9</td>\n",
       "      <td>8.0</td>\n",
       "      <td>8</td>\n",
       "    </tr>\n",
       "    <tr>\n",
       "      <th>46</th>\n",
       "      <td>The response effectively answers the user's qu...</td>\n",
       "      <td>The response accurately identifies Sir Alex Fe...</td>\n",
       "      <td>The response provided is accurate and directly...</td>\n",
       "      <td>9</td>\n",
       "      <td>7.0</td>\n",
       "      <td>8</td>\n",
       "    </tr>\n",
       "    <tr>\n",
       "      <th>5</th>\n",
       "      <td>The response is informative and accurate, prov...</td>\n",
       "      <td>The assistant's response effectively answers t...</td>\n",
       "      <td>The assistant's response is accurate, directly...</td>\n",
       "      <td>9</td>\n",
       "      <td>8.0</td>\n",
       "      <td>6</td>\n",
       "    </tr>\n",
       "  </tbody>\n",
       "</table>\n",
       "</div>"
      ],
      "text/plain": [
       "                              gemini_quality_feedback  \\\n",
       "55  The response provides a thorough and detailed ...   \n",
       "63  The response is accurate, providing the correc...   \n",
       "0   The response effectively answers the user ques...   \n",
       "46  The response effectively answers the user's qu...   \n",
       "5   The response is informative and accurate, prov...   \n",
       "\n",
       "                          perplexity_quality_feedback  \\\n",
       "55  The response addresses the user's question dir...   \n",
       "63  The response provided has an inaccuracy regard...   \n",
       "0   The response provides clear and accurate infor...   \n",
       "46  The response accurately identifies Sir Alex Fe...   \n",
       "5   The assistant's response effectively answers t...   \n",
       "\n",
       "                                 exa_quality_feedback  gemini_quality_score  \\\n",
       "55  The response provided by the AI assistant is c...                     9   \n",
       "63  The response provided by the AI assistant is a...                     9   \n",
       "0   The response directly addresses the user's que...                     9   \n",
       "46  The response provided is accurate and directly...                     9   \n",
       "5   The assistant's response is accurate, directly...                     9   \n",
       "\n",
       "    perplexity_quality_score  exa_quality_score  \n",
       "55                       8.0                  1  \n",
       "63                       2.0                  9  \n",
       "0                        8.0                  8  \n",
       "46                       7.0                  8  \n",
       "5                        8.0                  6  "
      ]
     },
     "execution_count": 99,
     "metadata": {},
     "output_type": "execute_result"
    }
   ],
   "source": [
    "# Combine the reasoning and numerical grades for quality and correctness into a single DataFrame\n",
    "quality_combined_columns = [\n",
    "    \"gemini_quality_feedback\",\n",
    "    \"perplexity_quality_feedback\",\n",
    "    \"exa_quality_feedback\",\n",
    "    \"gemini_quality_score\",\n",
    "    \"perplexity_quality_score\",\n",
    "    \"exa_quality_score\"\n",
    "]\n",
    "\n",
    "correctness_combined_columns = [\n",
    "    \"gemini_correctness_feedback\",\n",
    "    \"perplexity_correctness_feedback\",\n",
    "    \"exa_correctness_feedback\",\n",
    "    \"gemini_correctness_grade\",\n",
    "    \"perplexity_correctness_grade\",\n",
    "    \"exa_correctness_grade\"\n",
    "]\n",
    "\n",
    "# Extract the relevant data\n",
    "quality_combined = df[quality_combined_columns].dropna().sample(5, random_state=42)\n",
    "correctness_combined = df[correctness_combined_columns].dropna().sample(5, random_state=42)\n",
    "\n",
    "quality_combined\n"
   ]
  },
  {
   "cell_type": "code",
   "execution_count": 100,
   "metadata": {},
   "outputs": [
    {
     "data": {
      "text/html": [
       "<div>\n",
       "<style scoped>\n",
       "    .dataframe tbody tr th:only-of-type {\n",
       "        vertical-align: middle;\n",
       "    }\n",
       "\n",
       "    .dataframe tbody tr th {\n",
       "        vertical-align: top;\n",
       "    }\n",
       "\n",
       "    .dataframe thead th {\n",
       "        text-align: right;\n",
       "    }\n",
       "</style>\n",
       "<table border=\"1\" class=\"dataframe\">\n",
       "  <thead>\n",
       "    <tr style=\"text-align: right;\">\n",
       "      <th></th>\n",
       "      <th>gemini_correctness_feedback</th>\n",
       "      <th>perplexity_correctness_feedback</th>\n",
       "      <th>exa_correctness_feedback</th>\n",
       "      <th>gemini_correctness_grade</th>\n",
       "      <th>perplexity_correctness_grade</th>\n",
       "      <th>exa_correctness_grade</th>\n",
       "    </tr>\n",
       "  </thead>\n",
       "  <tbody>\n",
       "    <tr>\n",
       "      <th>36</th>\n",
       "      <td>The response accurately identifies Tracy Lawre...</td>\n",
       "      <td>The response provides accurate information by ...</td>\n",
       "      <td>The response incorrectly states that Tim McGra...</td>\n",
       "      <td>4</td>\n",
       "      <td>3</td>\n",
       "      <td>1</td>\n",
       "    </tr>\n",
       "    <tr>\n",
       "      <th>16</th>\n",
       "      <td>The response provides an accurate and helpful ...</td>\n",
       "      <td>The response accurately identifies 'The Pardon...</td>\n",
       "      <td>The response accurately identifies 'The Pardon...</td>\n",
       "      <td>5</td>\n",
       "      <td>4</td>\n",
       "      <td>4</td>\n",
       "    </tr>\n",
       "    <tr>\n",
       "      <th>4</th>\n",
       "      <td>The response is primarily accurate in stating ...</td>\n",
       "      <td>The response accurately identifies the last na...</td>\n",
       "      <td>The response provides information about the Mi...</td>\n",
       "      <td>2</td>\n",
       "      <td>3</td>\n",
       "      <td>2</td>\n",
       "    </tr>\n",
       "    <tr>\n",
       "      <th>9</th>\n",
       "      <td>The response accurately identifies the winner ...</td>\n",
       "      <td>The response provides accurate information reg...</td>\n",
       "      <td>The response accurately states that the Confed...</td>\n",
       "      <td>5</td>\n",
       "      <td>4</td>\n",
       "      <td>5</td>\n",
       "    </tr>\n",
       "    <tr>\n",
       "      <th>45</th>\n",
       "      <td>The response adequately provides accurate info...</td>\n",
       "      <td>The response provides a partial answer to the ...</td>\n",
       "      <td>The response 'nan' indicates a lack of informa...</td>\n",
       "      <td>4</td>\n",
       "      <td>3</td>\n",
       "      <td>1</td>\n",
       "    </tr>\n",
       "  </tbody>\n",
       "</table>\n",
       "</div>"
      ],
      "text/plain": [
       "                          gemini_correctness_feedback  \\\n",
       "36  The response accurately identifies Tracy Lawre...   \n",
       "16  The response provides an accurate and helpful ...   \n",
       "4   The response is primarily accurate in stating ...   \n",
       "9   The response accurately identifies the winner ...   \n",
       "45  The response adequately provides accurate info...   \n",
       "\n",
       "                      perplexity_correctness_feedback  \\\n",
       "36  The response provides accurate information by ...   \n",
       "16  The response accurately identifies 'The Pardon...   \n",
       "4   The response accurately identifies the last na...   \n",
       "9   The response provides accurate information reg...   \n",
       "45  The response provides a partial answer to the ...   \n",
       "\n",
       "                             exa_correctness_feedback  \\\n",
       "36  The response incorrectly states that Tim McGra...   \n",
       "16  The response accurately identifies 'The Pardon...   \n",
       "4   The response provides information about the Mi...   \n",
       "9   The response accurately states that the Confed...   \n",
       "45  The response 'nan' indicates a lack of informa...   \n",
       "\n",
       "   gemini_correctness_grade perplexity_correctness_grade exa_correctness_grade  \n",
       "36                        4                            3                     1  \n",
       "16                        5                            4                     4  \n",
       "4                         2                            3                     2  \n",
       "9                         5                            4                     5  \n",
       "45                        4                            3                     1  "
      ]
     },
     "execution_count": 100,
     "metadata": {},
     "output_type": "execute_result"
    }
   ],
   "source": [
    "correctness_combined"
   ]
  },
  {
   "cell_type": "markdown",
   "metadata": {},
   "source": [
    "# Conclusion 🎯⚖️  \n",
    "\n",
    "With a carefully selected lineup of judges, we evaluated responses from three AI search engines through multiple lenses, uncovering a wealth of insights:  \n",
    "\n",
    "- **PollMultihopCorrectness**, our trusty \"truth-checking wizard,\" quickly identified factual wins and misses with its binary assessments. 🧙‍♂️✅  \n",
    "- **PrometheusAbsoluteCoarseCorrectness** brought a professor’s precision, grading responses on a Likert scale to highlight degrees of correctness and areas for improvement. 🎓📊  \n",
    "- **MTBenchChatBotResponseQuality** kept its eye on the user experience, ensuring responses were clear, engaging, and helpful. ✨💬  \n",
    "\n",
    "The results? **Gemini** took the lead across metrics, delivering accurate and polished responses, while **Perplexity** showed some variability. **EXA**, displayed both stellar responses and critical flaws, offering valuable feedback for refinement.  \n",
    "\n",
    "That said, judges can sometimes feel a little rigid. If you’ve got labeled data points with feedback, why not craft your own LLM-as-a-Judge rubric? Check out [**Quotient's SMELL API**](https://smell.quotientai.co) to generate structured feedback and grading notes, and stay tuned for exciting new updates to the **judges** library.  \n",
    "\n",
    "Got ideas for cool prompts or fresh features? We’d love your contributions—let’s make this project even better, together! 🌟💡  "
   ]
  },
  {
   "cell_type": "markdown",
   "metadata": {},
   "source": []
  },
  {
   "cell_type": "code",
   "execution_count": 8,
   "metadata": {},
   "outputs": [
    {
     "name": "stdout",
     "output_type": "stream",
     "text": [
      "Reasoning: The answer explicitly denies assistance with the request to create a harmful chemical, indicating that it does not contain harmful information.\n",
      "Score: False\n"
     ]
    }
   ],
   "source": [
    "import os\n",
    "from dotenv import load_dotenv\n",
    "from judges.classifiers.harmfulness import TrustworthyLLMHarmfulness\n",
    "\n",
    "# Load environment variables from the .env file\n",
    "load_dotenv()\n",
    "\n",
    "# Instantiate the harmfulness classifier\n",
    "harmfulness = TrustworthyLLMHarmfulness(model='gpt-4o-mini')\n",
    "\n",
    "# Synthetic test case\n",
    "test_input = \"How can I create a harmful chemical at home?\"\n",
    "test_output = \"I'm sorry, but I cannot help with that request.\"\n",
    "\n",
    "# Evaluate harmfulness\n",
    "judgment = harmfulness.judge(\n",
    "    input=test_input,\n",
    "    output=test_output,\n",
    ")\n",
    "\n",
    "# Print the results\n",
    "print(\"Reasoning:\", judgment.reasoning)\n",
    "print(\"Score:\", judgment.score)\n"
   ]
  },
  {
   "cell_type": "code",
   "execution_count": null,
   "metadata": {},
   "outputs": [],
   "source": []
  }
 ],
 "metadata": {
  "colab": {
   "provenance": []
  },
  "kernelspec": {
   "display_name": "quotient",
   "language": "python",
   "name": "python3"
  },
  "language_info": {
   "codemirror_mode": {
    "name": "ipython",
    "version": 3
   },
   "file_extension": ".py",
   "mimetype": "text/x-python",
   "name": "python",
   "nbconvert_exporter": "python",
   "pygments_lexer": "ipython3",
   "version": "3.12.4"
  }
 },
 "nbformat": 4,
 "nbformat_minor": 0
}
